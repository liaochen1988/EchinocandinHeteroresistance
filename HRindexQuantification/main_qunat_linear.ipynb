{
 "cells": [
  {
   "cell_type": "code",
   "execution_count": 1,
   "id": "d0fb6182-5e18-4056-b197-50571777c3fe",
   "metadata": {},
   "outputs": [],
   "source": [
    "import pandas as pd\n",
    "import joblib\n",
    "import numpy as np\n",
    "import matplotlib.pyplot as plt\n",
    "import seaborn as sns\n",
    "from sklearn.decomposition import NMF\n",
    "from scipy import stats\n",
    "from sklearn.metrics import r2_score"
   ]
  },
  {
   "cell_type": "markdown",
   "id": "ae9c3453-1554-406b-8ef7-37bec217b8fa",
   "metadata": {},
   "source": [
    "# Read PAP data"
   ]
  },
  {
   "cell_type": "code",
   "execution_count": 2,
   "id": "66a53135-263e-4267-a005-8df47ff62701",
   "metadata": {},
   "outputs": [
    {
     "data": {
      "text/html": [
       "<div>\n",
       "<style scoped>\n",
       "    .dataframe tbody tr th:only-of-type {\n",
       "        vertical-align: middle;\n",
       "    }\n",
       "\n",
       "    .dataframe tbody tr th {\n",
       "        vertical-align: top;\n",
       "    }\n",
       "\n",
       "    .dataframe thead th {\n",
       "        text-align: right;\n",
       "    }\n",
       "</style>\n",
       "<table border=\"1\" class=\"dataframe\">\n",
       "  <thead>\n",
       "    <tr style=\"text-align: right;\">\n",
       "      <th></th>\n",
       "      <th>1</th>\n",
       "      <th>2</th>\n",
       "      <th>5</th>\n",
       "      <th>1286</th>\n",
       "      <th>520</th>\n",
       "      <th>2057</th>\n",
       "      <th>522</th>\n",
       "      <th>264</th>\n",
       "      <th>265</th>\n",
       "      <th>17</th>\n",
       "      <th>...</th>\n",
       "      <th>1762</th>\n",
       "      <th>485</th>\n",
       "      <th>489</th>\n",
       "      <th>1258</th>\n",
       "      <th>490</th>\n",
       "      <th>1004</th>\n",
       "      <th>1015</th>\n",
       "      <th>247</th>\n",
       "      <th>249</th>\n",
       "      <th>250</th>\n",
       "    </tr>\n",
       "    <tr>\n",
       "      <th>Strain#</th>\n",
       "      <th></th>\n",
       "      <th></th>\n",
       "      <th></th>\n",
       "      <th></th>\n",
       "      <th></th>\n",
       "      <th></th>\n",
       "      <th></th>\n",
       "      <th></th>\n",
       "      <th></th>\n",
       "      <th></th>\n",
       "      <th></th>\n",
       "      <th></th>\n",
       "      <th></th>\n",
       "      <th></th>\n",
       "      <th></th>\n",
       "      <th></th>\n",
       "      <th></th>\n",
       "      <th></th>\n",
       "      <th></th>\n",
       "      <th></th>\n",
       "      <th></th>\n",
       "    </tr>\n",
       "  </thead>\n",
       "  <tbody>\n",
       "    <tr>\n",
       "      <th>0</th>\n",
       "      <td>100.00</td>\n",
       "      <td>100.000</td>\n",
       "      <td>100.000</td>\n",
       "      <td>100.0000</td>\n",
       "      <td>100.00000</td>\n",
       "      <td>100.0000</td>\n",
       "      <td>100.0000</td>\n",
       "      <td>100.00000</td>\n",
       "      <td>100.0000</td>\n",
       "      <td>100.00000</td>\n",
       "      <td>...</td>\n",
       "      <td>100.0000</td>\n",
       "      <td>100.0000</td>\n",
       "      <td>100.000</td>\n",
       "      <td>100.0000</td>\n",
       "      <td>100.0000</td>\n",
       "      <td>100.00</td>\n",
       "      <td>100.0000</td>\n",
       "      <td>100.0000</td>\n",
       "      <td>100.0000</td>\n",
       "      <td>100.0000</td>\n",
       "    </tr>\n",
       "    <tr>\n",
       "      <th>1</th>\n",
       "      <td>6.00</td>\n",
       "      <td>3.750</td>\n",
       "      <td>4.286</td>\n",
       "      <td>0.0001</td>\n",
       "      <td>0.07778</td>\n",
       "      <td>0.1250</td>\n",
       "      <td>0.1500</td>\n",
       "      <td>0.08571</td>\n",
       "      <td>0.0001</td>\n",
       "      <td>0.10000</td>\n",
       "      <td>...</td>\n",
       "      <td>0.8333</td>\n",
       "      <td>0.1167</td>\n",
       "      <td>5.000</td>\n",
       "      <td>0.0001</td>\n",
       "      <td>0.2381</td>\n",
       "      <td>2.50</td>\n",
       "      <td>3.3333</td>\n",
       "      <td>0.0025</td>\n",
       "      <td>0.0020</td>\n",
       "      <td>0.0001</td>\n",
       "    </tr>\n",
       "    <tr>\n",
       "      <th>2</th>\n",
       "      <td>0.50</td>\n",
       "      <td>0.250</td>\n",
       "      <td>0.043</td>\n",
       "      <td>0.0001</td>\n",
       "      <td>0.06667</td>\n",
       "      <td>0.1250</td>\n",
       "      <td>0.1250</td>\n",
       "      <td>0.02857</td>\n",
       "      <td>0.0001</td>\n",
       "      <td>0.03846</td>\n",
       "      <td>...</td>\n",
       "      <td>0.1333</td>\n",
       "      <td>0.0750</td>\n",
       "      <td>0.100</td>\n",
       "      <td>0.0001</td>\n",
       "      <td>0.0029</td>\n",
       "      <td>0.50</td>\n",
       "      <td>0.0667</td>\n",
       "      <td>0.0001</td>\n",
       "      <td>0.0020</td>\n",
       "      <td>0.0001</td>\n",
       "    </tr>\n",
       "    <tr>\n",
       "      <th>4</th>\n",
       "      <td>1.00</td>\n",
       "      <td>0.125</td>\n",
       "      <td>0.100</td>\n",
       "      <td>0.0001</td>\n",
       "      <td>0.02222</td>\n",
       "      <td>0.0875</td>\n",
       "      <td>0.0225</td>\n",
       "      <td>0.04286</td>\n",
       "      <td>0.0001</td>\n",
       "      <td>0.03846</td>\n",
       "      <td>...</td>\n",
       "      <td>0.0833</td>\n",
       "      <td>0.0250</td>\n",
       "      <td>0.350</td>\n",
       "      <td>0.0001</td>\n",
       "      <td>0.0014</td>\n",
       "      <td>0.07</td>\n",
       "      <td>0.0533</td>\n",
       "      <td>0.0001</td>\n",
       "      <td>0.0001</td>\n",
       "      <td>0.0001</td>\n",
       "    </tr>\n",
       "    <tr>\n",
       "      <th>8</th>\n",
       "      <td>1.50</td>\n",
       "      <td>0.250</td>\n",
       "      <td>0.143</td>\n",
       "      <td>0.0001</td>\n",
       "      <td>0.03333</td>\n",
       "      <td>0.0625</td>\n",
       "      <td>0.0250</td>\n",
       "      <td>0.01143</td>\n",
       "      <td>0.0001</td>\n",
       "      <td>0.00538</td>\n",
       "      <td>...</td>\n",
       "      <td>0.0667</td>\n",
       "      <td>0.0167</td>\n",
       "      <td>0.200</td>\n",
       "      <td>0.0001</td>\n",
       "      <td>0.0024</td>\n",
       "      <td>0.05</td>\n",
       "      <td>0.0333</td>\n",
       "      <td>0.0001</td>\n",
       "      <td>0.0001</td>\n",
       "      <td>0.0001</td>\n",
       "    </tr>\n",
       "    <tr>\n",
       "      <th>16</th>\n",
       "      <td>0.50</td>\n",
       "      <td>0.125</td>\n",
       "      <td>0.143</td>\n",
       "      <td>0.0001</td>\n",
       "      <td>0.02222</td>\n",
       "      <td>0.0125</td>\n",
       "      <td>0.0075</td>\n",
       "      <td>0.01857</td>\n",
       "      <td>0.0001</td>\n",
       "      <td>0.00692</td>\n",
       "      <td>...</td>\n",
       "      <td>0.0500</td>\n",
       "      <td>0.0167</td>\n",
       "      <td>0.060</td>\n",
       "      <td>0.0001</td>\n",
       "      <td>0.0010</td>\n",
       "      <td>0.04</td>\n",
       "      <td>0.0667</td>\n",
       "      <td>0.0001</td>\n",
       "      <td>0.0001</td>\n",
       "      <td>0.0001</td>\n",
       "    </tr>\n",
       "    <tr>\n",
       "      <th>32</th>\n",
       "      <td>0.35</td>\n",
       "      <td>0.025</td>\n",
       "      <td>0.029</td>\n",
       "      <td>0.0001</td>\n",
       "      <td>0.01000</td>\n",
       "      <td>0.0375</td>\n",
       "      <td>0.0050</td>\n",
       "      <td>0.00857</td>\n",
       "      <td>0.0001</td>\n",
       "      <td>0.00385</td>\n",
       "      <td>...</td>\n",
       "      <td>0.0050</td>\n",
       "      <td>0.0142</td>\n",
       "      <td>0.015</td>\n",
       "      <td>0.0001</td>\n",
       "      <td>0.0002</td>\n",
       "      <td>0.01</td>\n",
       "      <td>0.0200</td>\n",
       "      <td>0.0001</td>\n",
       "      <td>0.0001</td>\n",
       "      <td>0.0001</td>\n",
       "    </tr>\n",
       "  </tbody>\n",
       "</table>\n",
       "<p>7 rows × 118 columns</p>\n",
       "</div>"
      ],
      "text/plain": [
       "           1        2        5         1286       520       2057      522   \\\n",
       "Strain#                                                                      \n",
       "0        100.00  100.000  100.000  100.0000  100.00000  100.0000  100.0000   \n",
       "1          6.00    3.750    4.286    0.0001    0.07778    0.1250    0.1500   \n",
       "2          0.50    0.250    0.043    0.0001    0.06667    0.1250    0.1250   \n",
       "4          1.00    0.125    0.100    0.0001    0.02222    0.0875    0.0225   \n",
       "8          1.50    0.250    0.143    0.0001    0.03333    0.0625    0.0250   \n",
       "16         0.50    0.125    0.143    0.0001    0.02222    0.0125    0.0075   \n",
       "32         0.35    0.025    0.029    0.0001    0.01000    0.0375    0.0050   \n",
       "\n",
       "              264       265        17    ...      1762      485      489   \\\n",
       "Strain#                                  ...                                \n",
       "0        100.00000  100.0000  100.00000  ...  100.0000  100.0000  100.000   \n",
       "1          0.08571    0.0001    0.10000  ...    0.8333    0.1167    5.000   \n",
       "2          0.02857    0.0001    0.03846  ...    0.1333    0.0750    0.100   \n",
       "4          0.04286    0.0001    0.03846  ...    0.0833    0.0250    0.350   \n",
       "8          0.01143    0.0001    0.00538  ...    0.0667    0.0167    0.200   \n",
       "16         0.01857    0.0001    0.00692  ...    0.0500    0.0167    0.060   \n",
       "32         0.00857    0.0001    0.00385  ...    0.0050    0.0142    0.015   \n",
       "\n",
       "             1258      490     1004      1015      247       249       250   \n",
       "Strain#                                                                      \n",
       "0        100.0000  100.0000  100.00  100.0000  100.0000  100.0000  100.0000  \n",
       "1          0.0001    0.2381    2.50    3.3333    0.0025    0.0020    0.0001  \n",
       "2          0.0001    0.0029    0.50    0.0667    0.0001    0.0020    0.0001  \n",
       "4          0.0001    0.0014    0.07    0.0533    0.0001    0.0001    0.0001  \n",
       "8          0.0001    0.0024    0.05    0.0333    0.0001    0.0001    0.0001  \n",
       "16         0.0001    0.0010    0.04    0.0667    0.0001    0.0001    0.0001  \n",
       "32         0.0001    0.0002    0.01    0.0200    0.0001    0.0001    0.0001  \n",
       "\n",
       "[7 rows x 118 columns]"
      ]
     },
     "execution_count": 2,
     "metadata": {},
     "output_type": "execute_result"
    }
   ],
   "source": [
    "# read data\n",
    "# backfill is a conservative way to gap fill missing values\n",
    "df = pd.read_excel('micafungin_PAPdata_final.xlsx', index_col=0, skiprows=[0,1,2,4]).fillna(method='backfill')\n",
    "\n",
    "# limit to MSK strains\n",
    "msk_strains = list(set(pd.read_csv('../MSK_HCT_isolates/sample_name_dict_MSK_isolates.csv')['Strain'])-set([2160]))\n",
    "assert len(msk_strains)==118\n",
    "df = df[msk_strains]\n",
    "\n",
    "df"
   ]
  },
  {
   "cell_type": "markdown",
   "id": "11011114-5d77-488e-b0d5-4a94ef3d4865",
   "metadata": {},
   "source": [
    "# Plot survival curves"
   ]
  },
  {
   "cell_type": "code",
   "execution_count": 7,
   "id": "d731d443-6d13-4d9c-b30a-f2df7470db2b",
   "metadata": {},
   "outputs": [
    {
     "data": {
      "image/png": "[encoded data removed]",
      "text/plain": [
       "<Figure size 432x288 with 1 Axes>"
      ]
     },
     "metadata": {
      "needs_background": "light"
     },
     "output_type": "display_data"
    }
   ],
   "source": [
    "fig, ax = plt.subplots(nrows=1, ncols=1, figsize=(6,4))\n",
    "\n",
    "strains_to_highlight = [809,807,1398,2529]\n",
    "colors = list(sns.color_palette())[0:len(strains_to_highlight)]\n",
    "for strain in df.columns:\n",
    "    if strain in strains_to_highlight:\n",
    "        ax.plot(df.index, df[strain], linewidth=1, color=colors[strains_to_highlight.index(strain)], label=strain)\n",
    "    else:\n",
    "        ax.plot(df.index, df[strain], linewidth=1, color='Gray')\n",
    "    \n",
    "ax.legend()\n",
    "ax.set_xlabel('Mica concentration', fontsize=15)\n",
    "#ax.set_yticks([0,1,2,3,4,5,6])\n",
    "#ax.set_yticklabels([-4,-3,-2,-1,0,1,2])\n",
    "ax.set_ylabel('log10(Survival %)', fontsize=15)\n",
    "_ = ax.set_xlim([0,30])\n",
    "\n",
    "plt.rcParams['svg.fonttype'] = 'none'"
   ]
  },
  {
   "cell_type": "markdown",
   "id": "5fad85f4-da61-41f6-a323-f4c9bff79f20",
   "metadata": {},
   "source": [
    "# Run NMF"
   ]
  },
  {
   "cell_type": "code",
   "execution_count": 15,
   "id": "ab6e3ca9-05fc-4a09-a8bb-8f1f2730f64b",
   "metadata": {},
   "outputs": [],
   "source": [
    "df_T = df.T\n",
    "model = NMF(n_components=2, init='nndsvda', random_state=42, max_iter=100000, tol=1e-10)\n",
    "df_W = pd.DataFrame(model.fit_transform(df_T.values), columns=['Factor1','Factor2'], index=df_T.index)\n",
    "df_W.index.name = 'Strain'\n",
    "df_H = pd.DataFrame(model.components_, columns=[0,1,2,4,8,16,32], index=['Basis1','Basis2'])\n",
    "\n",
    "# normalize df_H\n",
    "multiplier = [100/v for v in list(df_H[0])]\n",
    "df_H.iloc[0,:] = df_H.iloc[0,:]*multiplier[0]\n",
    "df_H.iloc[1,:] = df_H.iloc[1,:]*multiplier[1]\n",
    "df_W.iloc[:,0] = df_W.iloc[:,0]/multiplier[0]\n",
    "df_W.iloc[:,1] = df_W.iloc[:,1]/multiplier[1]"
   ]
  },
  {
   "cell_type": "code",
   "execution_count": 16,
   "id": "e5ed66d3-f1c3-47be-b02f-f8c25c8f6dfc",
   "metadata": {},
   "outputs": [
    {
     "data": {
      "text/plain": [
       "Factor1    True\n",
       "Factor2    True\n",
       "dtype: bool"
      ]
     },
     "execution_count": 16,
     "metadata": {},
     "output_type": "execute_result"
    }
   ],
   "source": [
    "# test if all values in df_W is non-negative\n",
    "(df_W>=0).eq(True).all()"
   ]
  },
  {
   "cell_type": "markdown",
   "id": "39515ee4-42f7-4a22-a312-c237f1ee3632",
   "metadata": {},
   "source": [
    "# Show basic modes"
   ]
  },
  {
   "cell_type": "code",
   "execution_count": 17,
   "id": "698e54bb-d596-44bc-b3f2-82ac78555619",
   "metadata": {},
   "outputs": [
    {
     "data": {
      "image/png": "[encoded data removed]",
      "text/plain": [
       "<Figure size 432x288 with 1 Axes>"
      ]
     },
     "metadata": {
      "needs_background": "light"
     },
     "output_type": "display_data"
    }
   ],
   "source": [
    "fig,ax = plt.subplots(nrows=1, ncols=1, figsize=(6, 4), sharex=True, sharey=True)\n",
    "_ = ax.plot(df.index, df_H.loc['Basis1',:], 'ro-', linewidth=2, label='Resistant mode')\n",
    "_ = ax.plot(df.index, df_H.loc['Basis2',:], 'bo-', linewidth=2, label='Sensitive mode')\n",
    "_ = ax.legend()\n",
    "_ = ax.set_xlabel('Mica conc. (ug/ml)', fontsize=12)\n",
    "_ = ax.set_ylabel('C. para survival (%)', fontsize=12)"
   ]
  },
  {
   "cell_type": "markdown",
   "id": "e63e33b9-76db-4e8b-b94f-5d03a78f3212",
   "metadata": {},
   "source": [
    "# Dimensionality reduction"
   ]
  },
  {
   "cell_type": "code",
   "execution_count": 18,
   "id": "993b95cb-287f-455b-af28-10a0b2dd0b91",
   "metadata": {},
   "outputs": [
    {
     "name": "stdout",
     "output_type": "stream",
     "text": [
      "R-squared: 1.000000\n"
     ]
    },
    {
     "data": {
      "image/png": "[encoded data removed]",
      "text/plain": [
       "<Figure size 360x360 with 1 Axes>"
      ]
     },
     "metadata": {
      "needs_background": "light"
     },
     "output_type": "display_data"
    }
   ],
   "source": [
    "res = stats.linregress(df_W['Factor1'],df_W['Factor2'])\n",
    "print(f\"R-squared: {res.rvalue**2:.6f}\")\n",
    "\n",
    "fig,ax = plt.subplots(nrows=1, ncols=1, figsize=(5,5))\n",
    "_ = sns.scatterplot(x='Factor1', y='Factor2', data=df_W, color='gray', marker='o', s=100, ax=ax)\n",
    "xdata = np.linspace(-1,3,100)\n",
    "ydata = res.intercept + res.slope*xdata\n",
    "\n",
    "strains_to_highlight = [809,807,1398,2529]\n",
    "colors = list(sns.color_palette())[0:len(strains_to_highlight)]\n",
    "for s,c in zip(strains_to_highlight, colors):\n",
    "    _ = ax.plot(df_W.loc[s,'Factor1'], df_W.loc[s,'Factor2'], 'o', color=c, label=s)\n",
    "#_ = ax.plot(xdata, ydata, 'k--')\n",
    "_ = ax.set_xlabel('Factor 1', fontsize=12)\n",
    "_ = ax.set_ylabel('Factor 2', fontsize=12)\n",
    "#_ = ax.set_xlim([-0.1,1.1])\n",
    "#_ = ax.set_ylim([-0.1,1.1])\n",
    "_ = ax.legend()"
   ]
  },
  {
   "cell_type": "markdown",
   "id": "35eb3c22-be5a-4af2-8f48-a9afb6d9ebfa",
   "metadata": {},
   "source": [
    "# Show reconstruction error"
   ]
  },
  {
   "cell_type": "code",
   "execution_count": 47,
   "id": "fc78cf74-4bfb-49ba-8c10-c2b24ff0f897",
   "metadata": {},
   "outputs": [
    {
     "name": "stderr",
     "output_type": "stream",
     "text": [
      "/Library/Frameworks/Python.framework/Versions/3.7/lib/python3.7/site-packages/ipykernel_launcher.py:7: RuntimeWarning: divide by zero encountered in log10\n",
      "  import sys\n"
     ]
    },
    {
     "name": "stdout",
     "output_type": "stream",
     "text": [
      "R-squared: 0.49\n"
     ]
    },
    {
     "data": {
      "image/png": "[encoded data removed]",
      "text/plain": [
       "<Figure size 360x360 with 1 Axes>"
      ]
     },
     "metadata": {
      "needs_background": "light"
     },
     "output_type": "display_data"
    }
   ],
   "source": [
    "lines = []\n",
    "mica = [0,1,2,4,8,16,32]\n",
    "for strain in df.columns:\n",
    "    obs = df[strain]\n",
    "    pred = df_W.loc[strain,'Factor1']*df_H.loc['Basis1',:]+df_W.loc[strain,'Factor2']*df_H.loc['Basis2',:]\n",
    "    for conc, yobs, ypred in zip(mica, obs, pred):\n",
    "        lines.append([strain, conc, np.log10(yobs)+4, np.log10(ypred)+4])\n",
    "df_reconst = pd.DataFrame(lines, columns=['Strain','Mica','Yobs','Ypred'])\n",
    "df_reconst['Mica'] = df_reconst['Mica'].astype(str)\n",
    "df_reconst = df_reconst.fillna(0).replace(-np.inf, 0)\n",
    "\n",
    "fig,ax = plt.subplots(figsize=(5, 5))\n",
    "_ = sns.scatterplot(x='Yobs', y='Ypred', hue='Mica', palette='Blues', ax=ax, data=df_reconst, s=25)\n",
    "ax.set_xlim([-0.5,6.5])\n",
    "ax.set_ylim([-0.5,6.5])\n",
    "ax.plot([-0.5,6.5],[-0.5,6.5],'k--')\n",
    "ax.set_xlabel('Observed log10(Survival %)', fontsize=15)\n",
    "ax.set_xticks([0,1,2,3,4,5,6])\n",
    "ax.set_xticklabels([-4,-3,-2,-1,0,1,2])\n",
    "ax.set_ylabel('Reconstructed log10(Survival %)', fontsize=15)\n",
    "ax.set_yticks([0,1,2,3,4,5,6])\n",
    "ax.set_yticklabels([-4,-3,-2,-1,0,1,2])\n",
    "\n",
    "r2 = r2_score(y_true=df_reconst['Yobs'], y_pred=df_reconst['Ypred'])\n",
    "print(\"R-squared: %2.2f\"%(r2))\n"
   ]
  }
 ],
 "metadata": {
  "kernelspec": {
   "display_name": "Python 3 (ipykernel)",
   "language": "python",
   "name": "python3"
  },
  "language_info": {
   "codemirror_mode": {
    "name": "ipython",
    "version": 3
   },
   "file_extension": ".py",
   "mimetype": "text/x-python",
   "name": "python",
   "nbconvert_exporter": "python",
   "pygments_lexer": "ipython3",
   "version": "3.7.9"
  }
 },
 "nbformat": 4,
 "nbformat_minor": 5
}
