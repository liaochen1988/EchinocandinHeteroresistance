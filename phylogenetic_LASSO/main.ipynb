{
 "cells": [
  {
   "cell_type": "code",
   "execution_count": 1,
   "metadata": {},
   "outputs": [],
   "source": [
    "import pandas as pd\n",
    "import numpy as np\n",
    "from sklearn.preprocessing import StandardScaler\n",
    "from sklearn.linear_model import LassoCV"
   ]
  },
  {
   "cell_type": "code",
   "execution_count": 2,
   "metadata": {},
   "outputs": [
    {
     "name": "stdout",
     "output_type": "stream",
     "text": [
      "3.8.6\n"
     ]
    }
   ],
   "source": [
    "from platform import python_version\n",
    "print(python_version())"
   ]
  },
  {
   "cell_type": "markdown",
   "metadata": {},
   "source": [
    "## Load feature matrix and rescale"
   ]
  },
  {
   "cell_type": "code",
   "execution_count": 3,
   "metadata": {},
   "outputs": [],
   "source": [
    "df_X = pd.read_csv('data/pattern_all_isolates.csv', index_col=0).astype(int)\n",
    "scaler = StandardScaler()\n",
    "df_X_scaled = pd.DataFrame(scaler.fit_transform(df_X), columns=scaler.get_feature_names_out(), index=df_X.index)"
   ]
  },
  {
   "cell_type": "markdown",
   "metadata": {},
   "source": [
    "## Load heteroresistance phenotype"
   ]
  },
  {
   "cell_type": "code",
   "execution_count": 4,
   "metadata": {},
   "outputs": [],
   "source": [
    "df_y = pd.read_csv(\"data/hr_phenotype.csv\", index_col=0).loc[df_X_scaled.index]\n",
    "df_y.HR = df_y.HR.astype(int)"
   ]
  },
  {
   "cell_type": "markdown",
   "metadata": {},
   "source": [
    "## Run Lasso"
   ]
  },
  {
   "cell_type": "code",
   "execution_count": 5,
   "metadata": {},
   "outputs": [
    {
     "name": "stdout",
     "output_type": "stream",
     "text": [
      "best alpha = 0.0727\n"
     ]
    }
   ],
   "source": [
    "lasso_res = LassoCV(\n",
    "    cv=5, \n",
    "    random_state=42,\n",
    "    n_alphas=1000,\n",
    "    max_iter=100000,\n",
    "    verbose=0,\n",
    "    n_jobs=-1,\n",
    ").fit(df_X_scaled.values, np.ravel(df_y[['HR']].values))\n",
    "print('best alpha = %2.4f'%(lasso_res.alpha_))"
   ]
  },
  {
   "cell_type": "markdown",
   "metadata": {},
   "source": [
    "## Run phylogenetic Lasso"
   ]
  },
  {
   "cell_type": "code",
   "execution_count": 6,
   "metadata": {},
   "outputs": [
    {
     "name": "stdout",
     "output_type": "stream",
     "text": [
      "best alpha = 12.9179\n"
     ]
    }
   ],
   "source": [
    "df_phy = pd.read_csv('output/variance_covariance_matrix.csv', index_col=0)\n",
    "df_phy = df_phy.loc[list(df_X_scaled.index), list(df_X_scaled.index)]\n",
    "L = np.linalg.cholesky(df_phy.values) # Cholesky decomposition\n",
    "LT = np.transpose(L)\n",
    "transformer = np.matmul(np.linalg.inv(np.matmul(LT,L)),LT)\n",
    "X_phy_corrected = np.matmul(transformer, df_X_scaled.values)\n",
    "y_phy_corrected = np.matmul(transformer, df_y[['HR']].values)\n",
    "phylo_lasso_res = LassoCV(\n",
    "    cv=5, \n",
    "    random_state=42,\n",
    "    n_alphas=1000,\n",
    "    max_iter=100000,\n",
    "    verbose=0,\n",
    "    n_jobs=-1,\n",
    ").fit(X_phy_corrected, np.ravel(y_phy_corrected))\n",
    "print('best alpha = %2.4f'%(phylo_lasso_res.alpha_))"
   ]
  },
  {
   "cell_type": "markdown",
   "metadata": {},
   "source": [
    "## Combine Lasso and phylogenetic Lasso results"
   ]
  },
  {
   "cell_type": "code",
   "execution_count": 7,
   "metadata": {},
   "outputs": [
    {
     "data": {
      "text/html": [
       "<div>\n",
       "<style scoped>\n",
       "    .dataframe tbody tr th:only-of-type {\n",
       "        vertical-align: middle;\n",
       "    }\n",
       "\n",
       "    .dataframe tbody tr th {\n",
       "        vertical-align: top;\n",
       "    }\n",
       "\n",
       "    .dataframe thead th {\n",
       "        text-align: right;\n",
       "    }\n",
       "</style>\n",
       "<table border=\"1\" class=\"dataframe\">\n",
       "  <thead>\n",
       "    <tr style=\"text-align: right;\">\n",
       "      <th></th>\n",
       "      <th>Lasso</th>\n",
       "      <th>PhyloLasso</th>\n",
       "    </tr>\n",
       "    <tr>\n",
       "      <th>Pattern</th>\n",
       "      <th></th>\n",
       "      <th></th>\n",
       "    </tr>\n",
       "  </thead>\n",
       "  <tbody>\n",
       "    <tr>\n",
       "      <th>Pattern_4020</th>\n",
       "      <td>-0.019563</td>\n",
       "      <td>-0.000000</td>\n",
       "    </tr>\n",
       "    <tr>\n",
       "      <th>Pattern_4054</th>\n",
       "      <td>-0.016259</td>\n",
       "      <td>-0.000000</td>\n",
       "    </tr>\n",
       "    <tr>\n",
       "      <th>Pattern_212</th>\n",
       "      <td>-0.007649</td>\n",
       "      <td>-0.080400</td>\n",
       "    </tr>\n",
       "    <tr>\n",
       "      <th>Pattern_667</th>\n",
       "      <td>-0.007613</td>\n",
       "      <td>-0.071362</td>\n",
       "    </tr>\n",
       "    <tr>\n",
       "      <th>Pattern_206</th>\n",
       "      <td>-0.000000</td>\n",
       "      <td>-0.000000</td>\n",
       "    </tr>\n",
       "  </tbody>\n",
       "</table>\n",
       "</div>"
      ],
      "text/plain": [
       "                 Lasso  PhyloLasso\n",
       "Pattern                           \n",
       "Pattern_4020 -0.019563   -0.000000\n",
       "Pattern_4054 -0.016259   -0.000000\n",
       "Pattern_212  -0.007649   -0.080400\n",
       "Pattern_667  -0.007613   -0.071362\n",
       "Pattern_206  -0.000000   -0.000000"
      ]
     },
     "execution_count": 7,
     "metadata": {},
     "output_type": "execute_result"
    }
   ],
   "source": [
    "df_lasso_res = pd.DataFrame(lasso_res.coef_, index=df_X_scaled.columns, columns=['Lasso'])\n",
    "df_phylo_lasso_res = pd.DataFrame(phylo_lasso_res.coef_, index=df_X_scaled.columns, columns=['PhyloLasso'])\n",
    "df_res_joined = pd.merge(df_lasso_res, df_phylo_lasso_res, left_index=True, right_index=True, how='outer').fillna(0)\n",
    "df_res_joined.index.name = 'Pattern'\n",
    "df_res_joined = df_res_joined.sort_values(['Lasso'])\n",
    "df_res_joined.to_csv(\"output/lasso_phylolasso_coefs.csv\")\n",
    "df_res_joined.head()"
   ]
  },
  {
   "cell_type": "code",
   "execution_count": null,
   "metadata": {},
   "outputs": [],
   "source": []
  }
 ],
 "metadata": {
  "kernelspec": {
   "display_name": "Python 3 (ipykernel)",
   "language": "python",
   "name": "python3"
  },
  "language_info": {
   "codemirror_mode": {
    "name": "ipython",
    "version": 3
   },
   "file_extension": ".py",
   "mimetype": "text/x-python",
   "name": "python",
   "nbconvert_exporter": "python",
   "pygments_lexer": "ipython3",
   "version": "3.8.6"
  }
 },
 "nbformat": 4,
 "nbformat_minor": 4
}
