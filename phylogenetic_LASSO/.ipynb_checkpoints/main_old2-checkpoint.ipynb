{
 "cells": [
  {
   "cell_type": "code",
   "execution_count": 1,
   "metadata": {},
   "outputs": [],
   "source": [
    "import pandas as pd\n",
    "import numpy as np\n",
    "from copy import deepcopy\n",
    "from scipy.stats import spearmanr, pearsonr\n",
    "from sklearn.compose import ColumnTransformer\n",
    "from sklearn.preprocessing import StandardScaler, OneHotEncoder\n",
    "from sklearn.linear_model import LassoCV, RidgeCV\n",
    "from collections import Counter\n",
    "import joblib"
   ]
  },
  {
   "cell_type": "markdown",
   "metadata": {},
   "source": [
    "# Read features and HR phenotypes"
   ]
  },
  {
   "cell_type": "markdown",
   "metadata": {},
   "source": [
    "## features (all features need to be standarized, including dummies)"
   ]
  },
  {
   "cell_type": "code",
   "execution_count": 9,
   "metadata": {},
   "outputs": [],
   "source": [
    "df_X_all = pd.read_csv('../merge_features/pattern_all_isolates.csv', index_col=0).astype(int)\n",
    "df_X_usa = pd.read_csv('../merge_features/pattern_usa_only.csv', index_col=0).astype(int)\n",
    "df_X_euro = pd.read_csv('../merge_features/pattern_euro_only.csv', index_col=0).astype(int)\n",
    "df_X_china = pd.read_csv('../merge_features/pattern_china_only.csv', index_col=0).astype(int)\n",
    "\n",
    "scaler = StandardScaler()\n",
    "df_X_all = pd.DataFrame(scaler.fit_transform(df_X_all), columns=scaler.get_feature_names_out(), index=df_X_all.index)\n",
    "df_X_usa = pd.DataFrame(scaler.fit_transform(df_X_usa), columns=scaler.get_feature_names_out(), index=df_X_usa.index)\n",
    "df_X_euro = pd.DataFrame(scaler.fit_transform(df_X_euro), columns=scaler.get_feature_names_out(), index=df_X_euro.index)\n",
    "df_X_china = pd.DataFrame(scaler.fit_transform(df_X_china), columns=scaler.get_feature_names_out(), index=df_X_china.index)"
   ]
  },
  {
   "cell_type": "code",
   "execution_count": 21,
   "metadata": {},
   "outputs": [
    {
     "name": "stdout",
     "output_type": "stream",
     "text": [
      "230 136 21 73\n"
     ]
    }
   ],
   "source": [
    "print(len(df_X_all), len(df_X_usa), len(df_X_euro), len(df_X_china))"
   ]
  },
  {
   "cell_type": "markdown",
   "metadata": {},
   "source": [
    "## read HR features"
   ]
  },
  {
   "cell_type": "code",
   "execution_count": 15,
   "metadata": {},
   "outputs": [],
   "source": [
    "df_y_all = pd.read_csv(\"../classification/hr_cla.csv\", index_col=0).loc[df_X_all.index]\n",
    "df_y_usa = pd.read_csv(\"../classification/hr_cla.csv\", index_col=0).loc[df_X_usa.index]\n",
    "df_y_euro = pd.read_csv(\"../classification/hr_cla.csv\", index_col=0).loc[df_X_euro.index]\n",
    "df_y_china = pd.read_csv(\"../classification/hr_cla.csv\", index_col=0).loc[df_X_china.index]\n",
    "\n",
    "df_y_all.HR = df_y_all.HR.astype(int)\n",
    "df_y_usa.HR = df_y_usa.HR.astype(int)\n",
    "df_y_euro.HR = df_y_euro.HR.astype(int)\n",
    "df_y_china.HR = df_y_china.HR.astype(int)"
   ]
  },
  {
   "cell_type": "markdown",
   "metadata": {},
   "source": [
    "# Run phylolasso for both w/ and w/o corrections"
   ]
  },
  {
   "cell_type": "markdown",
   "metadata": {},
   "source": [
    "## All isolates"
   ]
  },
  {
   "cell_type": "markdown",
   "metadata": {},
   "source": [
    "### No correction"
   ]
  },
  {
   "cell_type": "code",
   "execution_count": 16,
   "metadata": {},
   "outputs": [
    {
     "name": "stdout",
     "output_type": "stream",
     "text": [
      "best alpha = 0.0697\n"
     ]
    }
   ],
   "source": [
    "reg_all_notcorr = LassoCV(\n",
    "    cv=5, \n",
    "    random_state=42,\n",
    "    n_alphas=1000,\n",
    "    max_iter=100000,\n",
    "    verbose=0,\n",
    "    n_jobs=-1,\n",
    ").fit(df_X_all.values, np.ravel(df_y_all[['HR']].values))\n",
    "print('best alpha = %2.4f'%(reg_all_notcorr.alpha_))"
   ]
  },
  {
   "cell_type": "markdown",
   "metadata": {},
   "source": [
    "### Phylogenetically corrected"
   ]
  },
  {
   "cell_type": "code",
   "execution_count": 17,
   "metadata": {},
   "outputs": [
    {
     "name": "stdout",
     "output_type": "stream",
     "text": [
      "best alpha = 14.1983\n"
     ]
    }
   ],
   "source": [
    "df_phy = pd.read_csv('variance_covariance_matrix.csv', index_col=0)\n",
    "df_phy = df_phy.loc[list(df_X_all.index), list(df_X_all.index)]\n",
    "L = np.linalg.cholesky(df_phy.values) # Cholesky decomposition\n",
    "LT = np.transpose(L)\n",
    "transformer = np.matmul(np.linalg.inv(np.matmul(LT,L)),LT)\n",
    "X_phy_corrected = np.matmul(transformer, df_X_all.values)\n",
    "y_phy_corrected = np.matmul(transformer, df_y_all[['HR']].values)\n",
    "reg_all_corrected = LassoCV(\n",
    "    cv=5, \n",
    "    random_state=42,\n",
    "    n_alphas=1000,\n",
    "    max_iter=100000,\n",
    "    verbose=0,\n",
    "    n_jobs=-1,\n",
    ").fit(X_phy_corrected, np.ravel(y_phy_corrected))\n",
    "print('best alpha = %2.4f'%(reg_all_corrected.alpha_))"
   ]
  },
  {
   "cell_type": "markdown",
   "metadata": {},
   "source": [
    "## USA only"
   ]
  },
  {
   "cell_type": "markdown",
   "metadata": {},
   "source": [
    "### No correction"
   ]
  },
  {
   "cell_type": "code",
   "execution_count": 18,
   "metadata": {},
   "outputs": [
    {
     "name": "stdout",
     "output_type": "stream",
     "text": [
      "best alpha = 0.0476\n"
     ]
    }
   ],
   "source": [
    "reg_usa_notcorr = LassoCV(\n",
    "    cv=5, \n",
    "    random_state=42,\n",
    "    n_alphas=1000,\n",
    "    max_iter=100000,\n",
    "    verbose=0,\n",
    "    n_jobs=-1,\n",
    ").fit(df_X_usa.values, np.ravel(df_y_usa[['HR']].values))\n",
    "print('best alpha = %2.4f'%(reg_usa_notcorr.alpha_))"
   ]
  },
  {
   "cell_type": "markdown",
   "metadata": {},
   "source": [
    "### Phylogenetically corrected"
   ]
  },
  {
   "cell_type": "code",
   "execution_count": 19,
   "metadata": {},
   "outputs": [
    {
     "name": "stdout",
     "output_type": "stream",
     "text": [
      "best alpha = 42.6253\n"
     ]
    }
   ],
   "source": [
    "df_phy = pd.read_csv('variance_covariance_matrix.csv', index_col=0)\n",
    "df_phy = df_phy.loc[list(df_X_usa.index), list(df_X_usa.index)]\n",
    "L = np.linalg.cholesky(df_phy.values) # Cholesky decomposition\n",
    "LT = np.transpose(L)\n",
    "transformer = np.matmul(np.linalg.inv(np.matmul(LT,L)),LT)\n",
    "X_phy_corrected = np.matmul(transformer, df_X_usa.values)\n",
    "y_phy_corrected = np.matmul(transformer, df_y_usa[['HR']].values)\n",
    "reg_usa_corrected = LassoCV(\n",
    "    cv=5, \n",
    "    random_state=42,\n",
    "    n_alphas=1000,\n",
    "    max_iter=100000,\n",
    "    verbose=0,\n",
    "    n_jobs=-1,\n",
    ").fit(X_phy_corrected, np.ravel(y_phy_corrected))\n",
    "print('best alpha = %2.4f'%(reg_usa_corrected.alpha_))"
   ]
  },
  {
   "cell_type": "markdown",
   "metadata": {},
   "source": [
    "## Europe only"
   ]
  },
  {
   "cell_type": "markdown",
   "metadata": {},
   "source": [
    "### No correction"
   ]
  },
  {
   "cell_type": "code",
   "execution_count": 20,
   "metadata": {},
   "outputs": [
    {
     "name": "stdout",
     "output_type": "stream",
     "text": [
      "best alpha = 0.3461\n"
     ]
    }
   ],
   "source": [
    "reg_euro_notcorr = LassoCV(\n",
    "    cv=5, \n",
    "    random_state=42,\n",
    "    n_alphas=1000,\n",
    "    max_iter=100000,\n",
    "    verbose=0,\n",
    "    n_jobs=-1,\n",
    ").fit(df_X_euro.values, np.ravel(df_y_euro[['HR']].values))\n",
    "print('best alpha = %2.4f'%(reg_euro_notcorr.alpha_))"
   ]
  },
  {
   "cell_type": "markdown",
   "metadata": {},
   "source": [
    "### Phylogenetically corrected"
   ]
  },
  {
   "cell_type": "code",
   "execution_count": 22,
   "metadata": {},
   "outputs": [
    {
     "name": "stdout",
     "output_type": "stream",
     "text": [
      "best alpha = 69.8635\n"
     ]
    }
   ],
   "source": [
    "df_phy = pd.read_csv('variance_covariance_matrix.csv', index_col=0)\n",
    "df_phy = df_phy.loc[list(df_X_euro.index), list(df_X_euro.index)]\n",
    "L = np.linalg.cholesky(df_phy.values) # Cholesky decomposition\n",
    "LT = np.transpose(L)\n",
    "transformer = np.matmul(np.linalg.inv(np.matmul(LT,L)),LT)\n",
    "X_phy_corrected = np.matmul(transformer, df_X_euro.values)\n",
    "y_phy_corrected = np.matmul(transformer, df_y_euro[['HR']].values)\n",
    "reg_euro_corrected = LassoCV(\n",
    "    cv=5, \n",
    "    random_state=42,\n",
    "    n_alphas=1000,\n",
    "    max_iter=100000,\n",
    "    verbose=0,\n",
    "    n_jobs=-1,\n",
    ").fit(X_phy_corrected, np.ravel(y_phy_corrected))\n",
    "print('best alpha = %2.4f'%(reg_euro_corrected.alpha_))"
   ]
  },
  {
   "cell_type": "markdown",
   "metadata": {},
   "source": [
    "## China"
   ]
  },
  {
   "cell_type": "markdown",
   "metadata": {},
   "source": [
    "### No correction"
   ]
  },
  {
   "cell_type": "code",
   "execution_count": 23,
   "metadata": {},
   "outputs": [
    {
     "name": "stdout",
     "output_type": "stream",
     "text": [
      "best alpha = 0.1973\n"
     ]
    }
   ],
   "source": [
    "reg_china_notcorr = LassoCV(\n",
    "    cv=5, \n",
    "    random_state=42,\n",
    "    n_alphas=1000,\n",
    "    max_iter=100000,\n",
    "    verbose=0,\n",
    "    n_jobs=-1,\n",
    ").fit(df_X_china.values, np.ravel(df_y_china[['HR']].values))\n",
    "print('best alpha = %2.4f'%(reg_china_notcorr.alpha_))"
   ]
  },
  {
   "cell_type": "markdown",
   "metadata": {},
   "source": [
    "### Phylogenetically corrected"
   ]
  },
  {
   "cell_type": "code",
   "execution_count": 24,
   "metadata": {},
   "outputs": [
    {
     "name": "stdout",
     "output_type": "stream",
     "text": [
      "best alpha = 3.6238\n"
     ]
    }
   ],
   "source": [
    "df_phy = pd.read_csv('variance_covariance_matrix.csv', index_col=0)\n",
    "df_phy = df_phy.loc[list(df_X_china.index), list(df_X_china.index)]\n",
    "L = np.linalg.cholesky(df_phy.values) # Cholesky decomposition\n",
    "LT = np.transpose(L)\n",
    "transformer = np.matmul(np.linalg.inv(np.matmul(LT,L)),LT)\n",
    "X_phy_corrected = np.matmul(transformer, df_X_china.values)\n",
    "y_phy_corrected = np.matmul(transformer, df_y_china[['HR']].values)\n",
    "reg_china_corrected = LassoCV(\n",
    "    cv=5, \n",
    "    random_state=42,\n",
    "    n_alphas=1000,\n",
    "    max_iter=100000,\n",
    "    verbose=0,\n",
    "    n_jobs=-1,\n",
    ").fit(X_phy_corrected, np.ravel(y_phy_corrected))\n",
    "print('best alpha = %2.4f'%(reg_china_corrected.alpha_))"
   ]
  },
  {
   "cell_type": "markdown",
   "metadata": {},
   "source": [
    "# Combine all regression results"
   ]
  },
  {
   "cell_type": "code",
   "execution_count": 66,
   "metadata": {},
   "outputs": [
    {
     "data": {
      "text/html": [
       "<div>\n",
       "<style scoped>\n",
       "    .dataframe tbody tr th:only-of-type {\n",
       "        vertical-align: middle;\n",
       "    }\n",
       "\n",
       "    .dataframe tbody tr th {\n",
       "        vertical-align: top;\n",
       "    }\n",
       "\n",
       "    .dataframe thead th {\n",
       "        text-align: right;\n",
       "    }\n",
       "</style>\n",
       "<table border=\"1\" class=\"dataframe\">\n",
       "  <thead>\n",
       "    <tr style=\"text-align: right;\">\n",
       "      <th></th>\n",
       "      <th>All, No correction</th>\n",
       "      <th>Usa, No correction</th>\n",
       "      <th>Europe, No correction</th>\n",
       "      <th>China, No correction</th>\n",
       "      <th>All, Corrected</th>\n",
       "      <th>Usa, Corrected</th>\n",
       "      <th>Europe, Corrected</th>\n",
       "      <th>China, Corrected</th>\n",
       "    </tr>\n",
       "    <tr>\n",
       "      <th>Pattern</th>\n",
       "      <th></th>\n",
       "      <th></th>\n",
       "      <th></th>\n",
       "      <th></th>\n",
       "      <th></th>\n",
       "      <th></th>\n",
       "      <th></th>\n",
       "      <th></th>\n",
       "    </tr>\n",
       "  </thead>\n",
       "  <tbody>\n",
       "    <tr>\n",
       "      <th>CNV_event__CPAR2_100270=2;CNV_event__CPAR2_207210=1;CNV_event__CPAR2_501750=1;CNV_event__CPAR2_502110=1;CNV_event__CPAR2_805400=1;CNV_event__CPAR2_805410=1;CNV_partial__CPAR2_100270=1;CNV_partial__CPAR2_207210=1;CNV_partial__CPAR2_400500=1;CNV_partial__CPAR2_501750=1;CNV_partial__CPAR2_502110=1;CNV_partial__CPAR2_805400=1;CNV_partial__CPAR2_806320=1;cpar_Chr_1:1024694:SNP:C:T=1;cpar_Chr_1:103147:SNP:G:A=1;cpar_Chr_1:1045147:SNP:A:G=1;cpar_Chr_1:1052040:SNP:G:A=1;cpar_Chr_1:1052217:SNP:G:C=1;cpar_Chr_1:105381:SNP:C:T=1;cpar_Chr_1:1068033:SNP:C:T=1;cpar_Chr_1:1078490:INDEL:TC:T=1;cpar_Chr_1:1083764:SNP:A:G=1;cpar_Chr_1:1085616:SNP:T:C=1;cpar_Chr_1:1104208:SNP:T:A=1;cpar_Chr_1:1110537:SNP:T:C=1;cpar_Chr_1:1116939:SNP:C:T=1;cpar_Chr_1:1124770:SNP:G:A=1;cpar_Chr_1:1170910:SNP:T:C=1;cpar_Chr_1:1171550:SNP:G:A=1;cpar_Chr_1:1180937:SNP:C:T=1;cpar_Chr_1:1185007:SNP:G:T=1;cpar_Chr_1:1189210:SNP:T:C=1;cpar_Chr_1:1196728:SNP:A:T=2;cpar_Chr_1:1214919:SNP:G:A=1;cpar_Chr_1:1219052:SNP:C:T=1;cpar_Chr_1:1246742:SNP:T:C=1;cpar_Chr_1:1254679:SNP:G:A=1;cpar_Chr_1:1296594:SNP:G:A=1;cpar_Chr_1:1317562:SNP:C:T=1;cpar_Chr_1:1320459:SNP:G:A=1;cpar_Chr_1:1344848:SNP:C:T=1;cpar_Chr_1:1352261:SNP:C:T=1;cpar_Chr_1:1363722:SNP:T:A=1;cpar_Chr_1:1380463:SNP:C:T=1;cpar_Chr_1:1383672:INDEL:A:ATT=1;cpar_Chr_1:1595727:SNP:C:T=1;cpar_Chr_1:1617927:SNP:G:A=1;cpar_Chr_1:1754649:SNP:T:C=1;cpar_Chr_1:1780621:SNP:G:T=1;cpar_Chr_1:1786110:SNP:C:T=1;cpar_Chr_1:1874883:SNP:G:T=1;cpar_Chr_1:1949511:SNP:G:A=1;cpar_Chr_1:1988424:SNP:C:A=1;cpar_Chr_1:2002600:SNP:C:T=1;cpar_Chr_1:204530:SNP:A:G=1;cpar_Chr_1:2046681:SNP:C:T=1;cpar_Chr_1:2063739:INDEL:CTTG:C=1;cpar_Chr_1:207063:SNP:C:T=1;cpar_Chr_1:2181093:SNP:G:A=1;cpar_Chr_1:2204468:SNP:C:T=1;cpar_Chr_1:310946:SNP:C:T=1;cpar_Chr_1:403641:SNP:C:T=1;cpar_Chr_1:453641:SNP:G:A=1;cpar_Chr_1:455744:SNP:T:C=1;cpar_Chr_1:461753:SNP:G:A=1;cpar_Chr_1:49855:INDEL:T:TA=2;cpar_Chr_1:515872:SNP:G:A=1;cpar_Chr_1:521667:SNP:G:A=1;cpar_Chr_1:549357:SNP:T:C=1;cpar_Chr_1:599088:SNP:G:A=1;cpar_Chr_1:612805:SNP:A:G=1;cpar_Chr_1:613915:SNP:C:T=1;cpar_Chr_1:692492:SNP:G:A=1;cpar_Chr_1:781263:SNP:G:A=1;cpar_Chr_1:787312:SNP:C:T=1;cpar_Chr_1:796071:SNP:A:G=1;cpar_Chr_1:80511:SNP:C:T=1;cpar_Chr_1:834396:SNP:C:T=1;cpar_Chr_1:864247:INDEL:AAG:A=2;cpar_Chr_1:866043:SNP:A:T=1;cpar_Chr_1:904116:SNP:C:T=1;cpar_Chr_1:909239:SNP:T:C=1;cpar_Chr_1:923779:SNP:C:T=1;cpar_Chr_1:947025:SNP:A:G=1;cpar_Chr_1:949552:SNP:T:A=1;cpar_Chr_1:963172:SNP:G:T=1;cpar_Chr_1:964117:SNP:C:T=1;cpar_Chr_1:987214:SNP:C:T=2;cpar_Chr_1:990930:SNP:G:A=1;cpar_Chr_1:999515:SNP:C:T=1;cpar_Chr_2:1053709:SNP:G:A=1;cpar_Chr_2:1054429:SNP:T:C=1;cpar_Chr_2:1082761:SNP:A:G=1;cpar_Chr_2:1127125:SNP:T:A=1;cpar_Chr_2:1148886:SNP:T:C=1;cpar_Chr_2:1151023:SNP:G:A=1;cpar_Chr_2:1161508:SNP:C:T=1;cpar_Chr_2:1238429:SNP:C:A=1;cpar_Chr_2:1262775:SNP:G:A=1;cpar_Chr_2:1295022:SNP:G:T=1;cpar_Chr_2:1311674:INDEL:CTT:C=2;cpar_Chr_2:1342002:SNP:C:T=1;cpar_Chr_2:136403:SNP:G:T=1;cpar_Chr_2:1376538:SNP:C:T=1;cpar_Chr_2:1382950:SNP:A:C=1;cpar_Chr_2:1386350:SNP:C:T=1;cpar_Chr_2:1443074:SNP:C:T=1;cpar_Chr_2:1471985:SNP:A:G=1;cpar_Chr_2:1565446:SNP:A:C=1;cpar_Chr_2:1575466:SNP:T:C=2;cpar_Chr_2:158343:SNP:T:A=1;cpar_Chr_2:1606987:SNP:T:C=1;cpar_Chr_2:1622206:SNP:G:A=2;cpar_Chr_2:169115:SNP:G:T=2;cpar_Chr_2:1692210:SNP:A:G=1;cpar_Chr_2:1750089:SNP:T:A=1;cpar_Chr_2:1769518:SNP:C:T=1;cpar_Chr_2:1822962:SNP:G:T=2;cpar_Chr_2:1826117:SNP:C:T=2;cpar_Chr_2:1894335:SNP:C:T=1;cpar_Chr_2:190438:SNP:G:C=1;cpar_Chr_2:1950482:SNP:C:T=1;cpar_Chr_2:2019238:SNP:C:T=1;cpar_Chr_2:2079815:INDEL:T:TTTGCCATTAGTATTGATGATTTACAAGATGGAGAGGATA=1;cpar_Chr_2:217249:SNP:G:A=1;cpar_Chr_2:2180171:INDEL:TAAA:T=1;cpar_Chr_2:2198996:SNP:A:G=1;cpar_Chr_2:2289416:SNP:G:A=1;cpar_Chr_2:230078:SNP:C:T=1;cpar_Chr_2:2307442:SNP:C:T=1;cpar_Chr_2:2318323:SNP:G:A=1;cpar_Chr_2:2329187:SNP:T:C=1;cpar_Chr_2:240647:SNP:T:C=1;cpar_Chr_2:2406801:SNP:C:T=1;cpar_Chr_2:2430526:SNP:C:T=1;cpar_Chr_2:2438124:INDEL:A:ATTGATGGAGTTG=1;cpar_Chr_2:2455321:SNP:A:G=1;cpar_Chr_2:2469840:SNP:G:A=1;cpar_Chr_2:2503558:SNP:C:T=1;cpar_Chr_2:2691440:SNP:G:A=1;cpar_Chr_2:269815:SNP:T:C=1;cpar_Chr_2:2704229:INDEL:T:TC=1;cpar_Chr_2:273796:SNP:A:T=1;cpar_Chr_2:2791949:SNP:G:T=1;cpar_Chr_2:2859316:SNP:C:G=1;cpar_Chr_2:2892597:SNP:G:A=1;cpar_Chr_2:2904073:SNP:C:T=1;cpar_Chr_2:2905975:SNP:G:A=1;cpar_Chr_2:2928608:SNP:C:T=1;cpar_Chr_2:295535:SNP:C:G=2;cpar_Chr_2:2984011:INDEL:CTT:C=1;cpar_Chr_2:3000227:SNP:C:T=1;cpar_Chr_2:362602:SNP:A:G=1;cpar_Chr_2:393783:SNP:G:A=1;cpar_Chr_2:457074:SNP:C:T=1;cpar_Chr_2:463191:SNP:C:A=1;cpar_Chr_2:466524:SNP:C:G=1;cpar_Chr_2:490339:SNP:G:A=1;cpar_Chr_2:563608:SNP:T:A=1;cpar_Chr_2:582817:SNP:C:T=1;cpar_Chr_2:663251:SNP:G:A=1;cpar_Chr_2:689934:SNP:G:T=1;cpar_Chr_2:693652:SNP:G:T=1;cpar_Chr_2:698935:SNP:G:A=1;cpar_Chr_2:784116:SNP:T:C=1;cpar_Chr_2:790824:INDEL:TA:T=2;cpar_Chr_2:863055:SNP:C:T=1;cpar_Chr_2:919065:SNP:G:T=1;cpar_Chr_2:946115:SNP:T:C=1;cpar_Chr_2:954845:INDEL:C:CT=1;cpar_Chr_2:96936:SNP:C:A=1;cpar_Chr_2:98377:SNP:G:C=1;cpar_Chr_2:997538:SNP:A:G=1;cpar_Chr_3:1031668:SNP:C:T=1;cpar_Chr_3:1034893:SNP:C:T=2;cpar_Chr_3:1065801:INDEL:AT:A=1;cpar_Chr_3:1070555:SNP:A:C=1;cpar_Chr_3:1104513:SNP:C:G=1;cpar_Chr_3:1132734:SNP:G:A=1;cpar_Chr_3:117880:SNP:T:A=2;cpar_Chr_3:1188030:SNP:A:G=2;cpar_Chr_3:1252987:SNP:G:A=1;cpar_Chr_3:1330167:SNP:G:A=2;cpar_Chr_3:1407773:SNP:C:T=2;cpar_Chr_3:1472184:SNP:C:T=1;cpar_Chr_3:158918:SNP:A:C=2;cpar_Chr_3:216977:INDEL:T:TATTCTCTTTCAAACCTCATCTC=2;cpar_Chr_3:270337:SNP:C:A=1;cpar_Chr_3:310975:SNP:A:G=2;cpar_Chr_3:411196:SNP:C:A=2;cpar_Chr_3:546260:SNP:G:T=2;cpar_Chr_3:572092:SNP:G:T=2;cpar_Chr_3:698722:SNP:C:T=1;cpar_Chr_3:715777:INDEL:TG:T=1;cpar_Chr_3:763662:SNP:A:G=2;cpar_Chr_3:766140:SNP:C:T=2;cpar_Chr_3:876978:SNP:C:T=1;cpar_Chr_3:894715:SNP:C:T=1;cpar_Chr_3:944422:SNP:G:C=1;cpar_Chr_3:983409:SNP:G:A=1;cpar_Chr_3:995885:SNP:C:T=1;cpar_Chr_4:1119956:SNP:C:T=2;cpar_Chr_4:1225889:SNP:C:T=2;cpar_Chr_4:1275379:SNP:T:C=1;cpar_Chr_4:1323325:SNP:T:A=1;cpar_Chr_4:187103:SNP:A:C=1;cpar_Chr_4:238411:SNP:G:T=1;cpar_Chr_4:244536:SNP:T:A=1;cpar_Chr_4:328072:SNP:C:T=2;cpar_Chr_4:406652:INDEL:A:ATTGGTGGTAGAGTACTTGCTGGTG=1;cpar_Chr_4:439891:SNP:C:T=1;cpar_Chr_4:458974:SNP:A:G=1;cpar_Chr_4:508655:SNP:G:A=2;cpar_Chr_4:526765:SNP:G:A=2;cpar_Chr_4:531563:INDEL:GTCT:G=2;cpar_Chr_4:566941:SNP:C:T=2;cpar_Chr_4:568542:SNP:G:A=2;cpar_Chr_4:642395:SNP:C:T=1;cpar_Chr_4:662090:INDEL:G:GA=2;cpar_Chr_4:824224:SNP:G:A=2;cpar_Chr_4:85673:SNP:C:T=1;cpar_Chr_4:864492:SNP:T:C=1;cpar_Chr_4:876766:SNP:T:A=1;cpar_Chr_4:955329:SNP:C:T=1;cpar_Chr_4:967563:SNP:C:T=1;cpar_Chr_4:988137:SNP:T:A=2;cpar_Chr_5:117574:SNP:A:G=1;cpar_Chr_5:148927:SNP:C:T=1;cpar_Chr_5:151751:SNP:T:C=1;cpar_Chr_5:172827:SNP:G:A=2;cpar_Chr_5:207614:SNP:G:A=2;cpar_Chr_5:222835:SNP:A:G=1;cpar_Chr_5:236581:SNP:C:T=2;cpar_Chr_5:306618:SNP:A:G=2;cpar_Chr_5:333346:SNP:C:A=1;cpar_Chr_5:403074:SNP:G:A=1;cpar_Chr_5:412672:SNP:C:T=1;cpar_Chr_5:416204:INDEL:GTT:G=1;cpar_Chr_5:458621:SNP:G:T=1;cpar_Chr_5:462925:SNP:C:G=1;cpar_Chr_5:468303:SNP:A:G=1;cpar_Chr_5:541014:SNP:C:T=1;cpar_Chr_5:543988:SNP:T:C=1;cpar_Chr_5:627211:SNP:A:G=1;cpar_Chr_5:712839:SNP:C:T=1;cpar_Chr_5:783946:INDEL:TA:T=2;cpar_Chr_5:788437:SNP:G:T=1;cpar_Chr_5:80451:SNP:A:G=1;cpar_Chr_5:815805:SNP:G:A=1;cpar_Chr_5:868859:SNP:A:G=2;cpar_Chr_5:877068:INDEL:CTT:C=1;cpar_Chr_5:919029:SNP:G:A=2;cpar_Chr_6:148741:SNP:C:T=1;cpar_Chr_6:158926:SNP:C:A=1;cpar_Chr_6:23203:SNP:G:A=2;cpar_Chr_6:375870:INDEL:GGA:G=1;cpar_Chr_6:377427:INDEL:G:GT=1;cpar_Chr_6:428485:SNP:C:G=2;cpar_Chr_6:447245:SNP:T:C=1;cpar_Chr_6:447620:SNP:T:C=1;cpar_Chr_6:470286:SNP:C:T=1;cpar_Chr_6:516276:SNP:G:T=1;cpar_Chr_6:521559:SNP:C:T=1;cpar_Chr_6:521863:SNP:A:G=1;cpar_Chr_6:545073:SNP:G:A=1;cpar_Chr_6:549119:INDEL:AT:A=1;cpar_Chr_6:549384:SNP:G:A=1;cpar_Chr_6:602967:SNP:G:A=1;cpar_Chr_6:633298:SNP:G:A=1;cpar_Chr_6:651969:SNP:T:G=1;cpar_Chr_6:65823:SNP:C:T=1;cpar_Chr_6:715529:SNP:A:G=2;cpar_Chr_6:830422:SNP:G:A=1;cpar_Chr_7:151017:SNP:C:T=2;cpar_Chr_7:162860:INDEL:C:CA=1;cpar_Chr_7:177628:SNP:C:T=1;cpar_Chr_7:189059:SNP:G:T=2;cpar_Chr_7:260618:SNP:G:T=2;cpar_Chr_7:268023:SNP:T:C=1;cpar_Chr_7:32128:SNP:C:T=1;cpar_Chr_7:343286:SNP:G:A=1;cpar_Chr_7:355868:SNP:G:T=1;cpar_Chr_7:386638:SNP:G:A=1;cpar_Chr_7:392777:SNP:C:T=1;cpar_Chr_7:401490:SNP:T:C=1;cpar_Chr_7:418608:SNP:G:A=1;cpar_Chr_7:436382:SNP:G:A=1;cpar_Chr_7:440597:SNP:G:A=2;cpar_Chr_7:445665:SNP:A:G=2;cpar_Chr_7:471227:SNP:A:G=1;cpar_Chr_7:514007:SNP:G:A=1;cpar_Chr_7:552529:SNP:G:A=2;cpar_Chr_7:622634:SNP:T:G=1;cpar_Chr_7:668977:SNP:G:A=1;cpar_Chr_7:693483:SNP:G:A=1;cpar_Chr_7:702790:SNP:G:A=1;cpar_Chr_7:745418:SNP:C:T=1;cpar_Chr_7:751609:SNP:C:T=1;cpar_Chr_7:777447:SNP:T:C=1;cpar_Chr_7:801219:SNP:C:T=1;cpar_Chr_7:840860:INDEL:AT:A=1;cpar_Chr_7:841272:SNP:A:G=1;cpar_Chr_7:842588:SNP:C:A=1;cpar_Chr_7:847348:SNP:C:T=1;cpar_Chr_7:905445:SNP:T:C=1;cpar_Chr_7:907962:SNP:C:T=1;cpar_Chr_7:933664:SNP:C:T=1;cpar_Chr_7:950829:SNP:G:A=1;cpar_Chr_7:956739:SNP:C:T=1;cpar_Chr_8:1024722:SNP:C:T=1;cpar_Chr_8:1025365:SNP:A:G=1;cpar_Chr_8:1129161:SNP:G:C=1;cpar_Chr_8:1133688:SNP:G:T=1;cpar_Chr_8:1152056:SNP:C:A=1;cpar_Chr_8:1155680:SNP:T:C=1;cpar_Chr_8:1189804:SNP:G:A=1;cpar_Chr_8:1231518:SNP:C:A=1;cpar_Chr_8:1249925:SNP:A:G=1;cpar_Chr_8:1382689:SNP:G:A=1;cpar_Chr_8:1406641:SNP:G:T=1;cpar_Chr_8:1412985:SNP:C:A=2;cpar_Chr_8:1457000:SNP:G:A=1;cpar_Chr_8:147706:SNP:A:G=1;cpar_Chr_8:1516060:SNP:C:T=2;cpar_Chr_8:1527298:SNP:C:T=1;cpar_Chr_8:1649491:SNP:C:T=1;cpar_Chr_8:16809:INDEL:CA:C=2;cpar_Chr_8:1806951:SNP:C:T=1;cpar_Chr_8:1811974:SNP:C:T=1;cpar_Chr_8:1844400:INDEL:GCTT:G=1;cpar_Chr_8:1922428:SNP:A:G=2;cpar_Chr_8:194182:SNP:C:T=1;cpar_Chr_8:234454:SNP:A:T=1;cpar_Chr_8:25232:SNP:A:G=2;cpar_Chr_8:320352:SNP:C:T=2;cpar_Chr_8:359742:SNP:A:G=1;cpar_Chr_8:534727:SNP:G:A=1;cpar_Chr_8:596562:SNP:C:A=1;cpar_Chr_8:606796:SNP:G:A=1;cpar_Chr_8:632798:SNP:G:A=1;cpar_Chr_8:665076:SNP:A:G=1;cpar_Chr_8:670340:SNP:G:A=1;cpar_Chr_8:746541:SNP:G:A=1;cpar_Chr_8:795036:SNP:G:A=1;cpar_Chr_8:860322:INDEL:TAA:T=1;cpar_Chr_8:864654:SNP:C:T=2;cpar_Chr_8:884312:SNP:C:T=1;cpar_Chr_8:911622:SNP:C:T=1;cpar_Chr_8:970530:SNP:A:G=1</th>\n",
       "      <td>0.0</td>\n",
       "      <td>0.000000</td>\n",
       "      <td>0.0</td>\n",
       "      <td>0.0</td>\n",
       "      <td>0.0</td>\n",
       "      <td>0.0</td>\n",
       "      <td>0.0</td>\n",
       "      <td>0.057354</td>\n",
       "    </tr>\n",
       "    <tr>\n",
       "      <th>CNV_event__CPAR2_104290=2;CNV_event__CPAR2_106900=1;CNV_event__CPAR2_107220=1;CNV_event__CPAR2_108360=2;CNV_event__CPAR2_208560=1;CNV_event__CPAR2_209870=1;CNV_event__CPAR2_210460=1;CNV_event__CPAR2_211130=1;CNV_event__CPAR2_213230=1;CNV_event__CPAR2_401870=1;CNV_partial__CPAR2_106900=1;CNV_partial__CPAR2_107220=1;CNV_partial__CPAR2_108360=1;CNV_partial__CPAR2_208560=1;CNV_partial__CPAR2_209870=1;CNV_partial__CPAR2_210460=1;CNV_partial__CPAR2_211130=1;CNV_partial__CPAR2_404390=1;cpar_Chr_1:1016961:SNP:C:T=2;cpar_Chr_1:1035832:SNP:G:T=2;cpar_Chr_1:1091304:SNP:G:A=2;cpar_Chr_1:111808:INDEL:GTT:G=1;cpar_Chr_1:1168242:SNP:C:T=1;cpar_Chr_1:1218066:SNP:A:G=1;cpar_Chr_1:1310756:SNP:G:A=2;cpar_Chr_1:1501480:SNP:G:A=1;cpar_Chr_1:1562590:INDEL:G:GA=2;cpar_Chr_1:1602799:SNP:C:A=2;cpar_Chr_1:1622193:SNP:C:T=1;cpar_Chr_1:1763130:SNP:C:T=2;cpar_Chr_1:1824181:SNP:G:A=2;cpar_Chr_1:2001611:SNP:G:C=2;cpar_Chr_1:253250:SNP:C:T=1;cpar_Chr_1:257914:SNP:C:T=1;cpar_Chr_1:294136:SNP:A:G=2;cpar_Chr_1:39723:SNP:C:G=1;cpar_Chr_1:41456:SNP:C:A=1;cpar_Chr_1:415869:INDEL:CAA:C=1;cpar_Chr_1:476257:SNP:C:T=1;cpar_Chr_1:524806:SNP:C:G=2;cpar_Chr_1:57799:SNP:T:C=1;cpar_Chr_1:674814:SNP:T:C=2;cpar_Chr_1:679802:SNP:G:C=1;cpar_Chr_1:72655:SNP:C:T=1;cpar_Chr_1:728572:SNP:C:T=1;cpar_Chr_1:729526:SNP:G:A=1;cpar_Chr_1:783365:SNP:G:A=1;cpar_Chr_1:811696:SNP:G:A=2;cpar_Chr_1:817720:SNP:G:T=1;cpar_Chr_1:826127:SNP:C:T=1;cpar_Chr_1:860208:INDEL:AAAAC:A=1;cpar_Chr_1:860634:SNP:C:T=1;cpar_Chr_1:905176:SNP:G:A=2;cpar_Chr_1:944514:SNP:T:A=2;cpar_Chr_2:1010089:INDEL:AT:A=2;cpar_Chr_2:1016293:SNP:G:A=1;cpar_Chr_2:1021401:SNP:T:A=2;cpar_Chr_2:1055465:SNP:A:G=2;cpar_Chr_2:1055525:INDEL:T:TCAAACTTCAAACGCAAACGTTCGGAATAATGTACA=1;cpar_Chr_2:1104051:SNP:C:T=2;cpar_Chr_2:1111367:SNP:G:A=1;cpar_Chr_2:1117888:SNP:C:A=2;cpar_Chr_2:1123080:SNP:C:T=2;cpar_Chr_2:1149295:INDEL:A:ACCACCACCAGCAATAACAGCAAATAGAGGAACAGTCAAGCACAAGTCGTCATCGGTACCACTTCCG=1;cpar_Chr_2:1159162:SNP:G:A=2;cpar_Chr_2:117401:SNP:C:A=1;cpar_Chr_2:1279728:SNP:C:T=2;cpar_Chr_2:1349509:SNP:G:A=1;cpar_Chr_2:1371541:SNP:T:G=1;cpar_Chr_2:1374645:SNP:C:A=1;cpar_Chr_2:1385263:SNP:C:G=1;cpar_Chr_2:1405423:SNP:C:T=2;cpar_Chr_2:1407420:SNP:C:T=2;cpar_Chr_2:1446134:SNP:A:T=2;cpar_Chr_2:1523751:SNP:C:T=1;cpar_Chr_2:1555001:SNP:C:T=1;cpar_Chr_2:1596638:SNP:T:C=2;cpar_Chr_2:1648356:INDEL:ACAATT:A=1;cpar_Chr_2:1721389:SNP:T:C=1;cpar_Chr_2:1728786:SNP:T:C=1;cpar_Chr_2:1729979:SNP:C:T=1;cpar_Chr_2:1740931:SNP:T:A=1;cpar_Chr_2:1754758:SNP:G:T=1;cpar_Chr_2:1760563:SNP:A:G=2;cpar_Chr_2:1857590:SNP:C:A=1;cpar_Chr_2:1875786:SNP:G:A=1;cpar_Chr_2:1908724:SNP:G:A=1;cpar_Chr_2:1926994:SNP:C:T=1;cpar_Chr_2:1969519:SNP:G:T=1;cpar_Chr_2:1984869:SNP:G:A=1;cpar_Chr_2:1991505:SNP:G:A=2;cpar_Chr_2:2005020:SNP:A:G=1;cpar_Chr_2:2042977:SNP:A:G=1;cpar_Chr_2:2095846:SNP:G:A=1;cpar_Chr_2:2159282:SNP:A:G=2;cpar_Chr_2:2171248:SNP:T:A=2;cpar_Chr_2:2192127:SNP:C:T=2;cpar_Chr_2:2211716:SNP:C:A=2;cpar_Chr_2:2240682:SNP:C:T=2;cpar_Chr_2:2282846:SNP:G:A=1;cpar_Chr_2:2344053:SNP:G:A=1;cpar_Chr_2:2378275:SNP:T:C=1;cpar_Chr_2:2394342:SNP:G:A=1;cpar_Chr_2:2427419:SNP:C:T=1;cpar_Chr_2:2437832:SNP:C:T=2;cpar_Chr_2:2449386:SNP:G:A=1;cpar_Chr_2:2449488:SNP:C:T=2;cpar_Chr_2:2522087:INDEL:AT:A=1;cpar_Chr_2:2530387:SNP:T:C=2;cpar_Chr_2:2540622:SNP:G:T=1;cpar_Chr_2:2577355:SNP:G:A=1;cpar_Chr_2:2594942:SNP:C:T=1;cpar_Chr_2:2596294:SNP:C:A=1;cpar_Chr_2:2630329:SNP:T:C=1;cpar_Chr_2:2637661:SNP:A:G=1;cpar_Chr_2:2649045:SNP:G:A=1;cpar_Chr_2:2700565:INDEL:CA:C=1;cpar_Chr_2:2709182:SNP:G:A=1;cpar_Chr_2:2731325:SNP:C:T=1;cpar_Chr_2:2733149:INDEL:A:AAGTGCT=1;cpar_Chr_2:2769571:SNP:G:A=2;cpar_Chr_2:283674:SNP:A:G=2;cpar_Chr_2:285153:SNP:G:T=2;cpar_Chr_2:2903693:SNP:G:A=1;cpar_Chr_2:2911210:SNP:C:T=1;cpar_Chr_2:2934875:SNP:T:C=1;cpar_Chr_2:294208:SNP:G:A=1;cpar_Chr_2:2975318:SNP:C:T=2;cpar_Chr_2:2990192:SNP:A:G=1;cpar_Chr_2:300872:SNP:T:C=2;cpar_Chr_2:3012123:SNP:G:A=1;cpar_Chr_2:3016407:SNP:G:A=1;cpar_Chr_2:304407:SNP:G:A=2;cpar_Chr_2:355717:SNP:C:T=2;cpar_Chr_2:361053:SNP:G:A=2;cpar_Chr_2:389023:SNP:C:T=2;cpar_Chr_2:435588:SNP:C:T=1;cpar_Chr_2:533023:SNP:C:T=2;cpar_Chr_2:615019:SNP:G:A=1;cpar_Chr_2:622669:SNP:G:T=2;cpar_Chr_2:649789:SNP:G:A=2;cpar_Chr_2:658006:SNP:A:T=1;cpar_Chr_2:690419:SNP:A:G=2;cpar_Chr_2:711027:SNP:C:G=2;cpar_Chr_2:717795:SNP:G:T=1;cpar_Chr_2:720924:INDEL:ACTACAG:A=2;cpar_Chr_2:787943:SNP:G:T=2;cpar_Chr_2:895808:SNP:T:C=2;cpar_Chr_2:897062:SNP:G:C=2;cpar_Chr_2:899147:SNP:A:G=2;cpar_Chr_2:910241:SNP:G:C=1;cpar_Chr_2:913364:INDEL:GA:G=2;cpar_Chr_2:941720:SNP:C:T=2;cpar_Chr_2:968384:SNP:C:A=2;cpar_Chr_2:995303:SNP:C:T=2;cpar_Chr_3:1014442:SNP:A:G=2;cpar_Chr_3:1030269:SNP:C:A=2;cpar_Chr_3:1031376:SNP:C:T=2;cpar_Chr_3:1059588:SNP:T:C=2;cpar_Chr_3:1060715:SNP:G:A=2;cpar_Chr_3:1064753:SNP:T:C=2;cpar_Chr_3:109752:SNP:T:C=2;cpar_Chr_3:1115461:SNP:G:A=2;cpar_Chr_3:1141876:SNP:T:C=2;cpar_Chr_3:1175369:SNP:C:A=2;cpar_Chr_3:118336:SNP:A:G=2;cpar_Chr_3:1202328:SNP:T:C=2;cpar_Chr_3:136571:SNP:C:G=2;cpar_Chr_3:1396721:SNP:A:G=2;cpar_Chr_3:1425678:SNP:G:A=2;cpar_Chr_3:1438395:SNP:C:A=1;cpar_Chr_3:1462760:SNP:G:A=2;cpar_Chr_3:183070:INDEL:T:TG=2;cpar_Chr_3:189370:SNP:C:A=1;cpar_Chr_3:197707:SNP:G:C=2;cpar_Chr_3:265158:SNP:G:A=1;cpar_Chr_3:341486:SNP:C:G=1;cpar_Chr_3:354750:SNP:G:C=1;cpar_Chr_3:388716:SNP:C:T=1;cpar_Chr_3:396903:SNP:T:C=1;cpar_Chr_3:404572:SNP:G:A=1;cpar_Chr_3:421782:SNP:T:C=1;cpar_Chr_3:428345:SNP:T:C=1;cpar_Chr_3:435029:INDEL:G:GA=1;cpar_Chr_3:458710:INDEL:ATTG:A=1;cpar_Chr_3:462421:INDEL:TC:T=1;cpar_Chr_3:465590:SNP:C:T=1;cpar_Chr_3:530351:SNP:G:A=1;cpar_Chr_3:538119:SNP:G:A=1;cpar_Chr_3:539113:SNP:G:C=1;cpar_Chr_3:544577:SNP:A:G=1;cpar_Chr_3:591965:SNP:C:T=1;cpar_Chr_3:612043:SNP:C:T=1;cpar_Chr_3:65388:SNP:A:G=2;cpar_Chr_3:659363:SNP:G:A=1;cpar_Chr_3:690533:SNP:T:A=2;cpar_Chr_3:84422:SNP:C:A=2;cpar_Chr_3:852766:SNP:A:G=1;cpar_Chr_3:894089:SNP:G:A=1;cpar_Chr_3:902802:SNP:C:A=1;cpar_Chr_3:904324:INDEL:AT:A=1;cpar_Chr_3:939695:INDEL:AG:A=1;cpar_Chr_4:1010231:SNP:C:T=2;cpar_Chr_4:1022511:INDEL:GTA:G=1;cpar_Chr_4:1049772:SNP:A:G=2;cpar_Chr_4:1112467:SNP:G:A=1;cpar_Chr_4:1151101:SNP:C:T=1;cpar_Chr_4:119169:SNP:C:G=2;cpar_Chr_4:1230170:SNP:C:T=2;cpar_Chr_4:123083:SNP:T:C=2;cpar_Chr_4:1328593:SNP:T:C=2;cpar_Chr_4:361320:SNP:T:G=1;cpar_Chr_4:435301:SNP:T:C=1;cpar_Chr_4:518332:SNP:T:A=1;cpar_Chr_4:587327:INDEL:GA:G=2;cpar_Chr_4:610714:SNP:C:T=2;cpar_Chr_4:702452:SNP:G:A=2;cpar_Chr_4:717273:SNP:G:A=2;cpar_Chr_4:734477:SNP:G:A=2;cpar_Chr_4:754258:SNP:G:A=1;cpar_Chr_4:754677:SNP:T:C=2;cpar_Chr_4:83753:SNP:C:T=2;cpar_Chr_4:959690:INDEL:CAG:C=1;cpar_Chr_5:11846:SNP:C:T=1;cpar_Chr_5:174118:SNP:A:G=1;cpar_Chr_5:214259:SNP:A:G=1;cpar_Chr_5:247972:SNP:C:T=1;cpar_Chr_5:258545:SNP:G:T=1;cpar_Chr_5:277154:SNP:C:G=1;cpar_Chr_5:299349:SNP:C:T=1;cpar_Chr_5:305089:SNP:C:A=1;cpar_Chr_5:322372:SNP:C:T=1;cpar_Chr_5:325303:SNP:C:T=1;cpar_Chr_5:377084:SNP:T:C=1;cpar_Chr_5:399662:SNP:A:G=1;cpar_Chr_5:436024:INDEL:GA:G=2;cpar_Chr_5:466824:SNP:C:G=2;cpar_Chr_5:503483:SNP:A:G=2;cpar_Chr_5:551537:SNP:A:G=1;cpar_Chr_5:561339:SNP:T:C=1;cpar_Chr_5:58310:SNP:G:A=1;cpar_Chr_5:592526:INDEL:C:CTTGCTTATTTGCTTAT=2;cpar_Chr_5:623736:SNP:A:G=2;cpar_Chr_5:629172:SNP:G:A=1;cpar_Chr_5:641299:SNP:C:A=2;cpar_Chr_5:646558:SNP:G:A=1;cpar_Chr_5:656277:SNP:T:C=1;cpar_Chr_5:790661:SNP:G:A=1;cpar_Chr_5:851623:SNP:G:C=1;cpar_Chr_5:863395:SNP:A:T=1;cpar_Chr_5:869598:SNP:C:T=2;cpar_Chr_5:897690:SNP:T:C=2;cpar_Chr_5:946183:SNP:G:A=2;cpar_Chr_6:149904:SNP:A:G=1;cpar_Chr_6:163649:INDEL:AAC:A=1;cpar_Chr_6:189550:SNP:T:C=2;cpar_Chr_6:202393:SNP:A:G=1;cpar_Chr_6:210956:SNP:G:A=1;cpar_Chr_6:213070:SNP:C:T=1;cpar_Chr_6:241156:INDEL:C:CA=1;cpar_Chr_6:261011:SNP:C:T=1;cpar_Chr_6:300171:SNP:G:A=1;cpar_Chr_6:460120:SNP:G:A=1;cpar_Chr_6:485690:SNP:C:A=1;cpar_Chr_6:5076:SNP:G:T=1;cpar_Chr_6:578216:SNP:C:T=2;cpar_Chr_6:586906:SNP:C:T=2;cpar_Chr_6:598992:SNP:G:A=2;cpar_Chr_6:67427:SNP:G:A=2;cpar_Chr_6:677502:SNP:T:C=1;cpar_Chr_6:705213:SNP:A:G=2;cpar_Chr_6:716314:SNP:C:T=1;cpar_Chr_6:718606:SNP:C:T=1;cpar_Chr_6:79763:SNP:T:A=1;cpar_Chr_7:121696:INDEL:CAA:C=2;cpar_Chr_7:29467:SNP:G:A=2;cpar_Chr_7:31099:SNP:G:A=2;cpar_Chr_7:333509:SNP:A:G=2;cpar_Chr_7:34893:SNP:G:C=2;cpar_Chr_7:442705:SNP:C:T=2;cpar_Chr_7:459834:SNP:A:G=2;cpar_Chr_7:496889:SNP:A:G=1;cpar_Chr_7:511862:SNP:G:T=1;cpar_Chr_7:527952:SNP:C:A=1;cpar_Chr_7:555435:SNP:G:A=1;cpar_Chr_7:628084:INDEL:G:GT=1;cpar_Chr_7:644312:SNP:T:C=1;cpar_Chr_7:676574:SNP:C:T=2;cpar_Chr_7:681107:SNP:C:A=2;cpar_Chr_7:712007:SNP:T:A=1;cpar_Chr_7:747097:SNP:C:T=1;cpar_Chr_7:750697:SNP:C:A=1;cpar_Chr_7:761000:SNP:T:A=2;cpar_Chr_7:786668:INDEL:T:TTCAATTTTGCAATTGGTTTTGGCAACTCAACCTTGAGTTCCGATGGCACGGAATCATCGATCTTTTGACGATAAGCC=1;cpar_Chr_7:915053:SNP:T:A=1;cpar_Chr_7:943198:SNP:A:G=2;cpar_Chr_7:947198:SNP:A:C=2;cpar_Chr_8:1028550:SNP:C:T=2;cpar_Chr_8:1036571:SNP:A:G=1;cpar_Chr_8:1038658:SNP:C:T=1;cpar_Chr_8:1104437:SNP:G:C=1;cpar_Chr_8:1109790:SNP:G:T=1;cpar_Chr_8:1177002:INDEL:T:TTAC=1;cpar_Chr_8:1217956:SNP:G:A=1;cpar_Chr_8:1265764:SNP:C:T=1;cpar_Chr_8:1304741:SNP:C:T=1;cpar_Chr_8:1365650:SNP:C:T=1;cpar_Chr_8:1384109:SNP:C:T=1;cpar_Chr_8:1392949:SNP:C:T=2;cpar_Chr_8:140743:SNP:C:T=2;cpar_Chr_8:1451247:SNP:A:G=1;cpar_Chr_8:1454833:SNP:A:G=1;cpar_Chr_8:1457320:SNP:C:T=1;cpar_Chr_8:1459924:SNP:G:A=1;cpar_Chr_8:1478432:INDEL:G:GT=1;cpar_Chr_8:149027:SNP:C:G=1;cpar_Chr_8:1506086:SNP:C:T=1;cpar_Chr_8:1532767:SNP:T:C=1;cpar_Chr_8:1536826:SNP:A:G=1;cpar_Chr_8:1580958:SNP:G:A=1;cpar_Chr_8:1581627:SNP:T:C=1;cpar_Chr_8:1618291:SNP:C:A=1;cpar_Chr_8:1658953:SNP:A:G=2;cpar_Chr_8:1682590:SNP:T:G=1;cpar_Chr_8:1744180:SNP:C:T=1;cpar_Chr_8:1763982:SNP:G:A=1;cpar_Chr_8:1827118:SNP:C:T=2;cpar_Chr_8:1867839:SNP:G:A=1;cpar_Chr_8:1877038:SNP:C:T=2;cpar_Chr_8:1877039:SNP:C:T=2;cpar_Chr_8:326422:SNP:T:G=1;cpar_Chr_8:382757:SNP:A:C=2;cpar_Chr_8:543147:SNP:C:T=2;cpar_Chr_8:577804:SNP:A:G=2;cpar_Chr_8:586085:SNP:T:C=2;cpar_Chr_8:637320:SNP:C:T=2;cpar_Chr_8:646445:SNP:C:T=2;cpar_Chr_8:682507:SNP:G:A=2;cpar_Chr_8:691998:SNP:G:C=2;cpar_Chr_8:691999:SNP:C:T=2;cpar_Chr_8:705510:SNP:G:A=2;cpar_Chr_8:741638:SNP:T:G=1;cpar_Chr_8:798415:SNP:A:T=1;cpar_Chr_8:802164:SNP:C:T=1;cpar_Chr_8:817575:SNP:G:A=1;cpar_Chr_8:829277:SNP:A:G=1;cpar_Chr_8:844314:SNP:A:G=2;cpar_Chr_8:866374:INDEL:C:CT=1;cpar_Chr_8:880833:SNP:T:A=2</th>\n",
       "      <td>0.0</td>\n",
       "      <td>0.000000</td>\n",
       "      <td>0.0</td>\n",
       "      <td>0.0</td>\n",
       "      <td>0.0</td>\n",
       "      <td>0.0</td>\n",
       "      <td>0.0</td>\n",
       "      <td>0.025246</td>\n",
       "    </tr>\n",
       "    <tr>\n",
       "      <th>CNV_event__CPAR2_104990=1;CNV_event__CPAR2_205850=1;CNV_event__CPAR2_207260=1;CNV_event__CPAR2_302740=2;CNV_event__CPAR2_302750=2;CNV_event__CPAR2_407900=1;CNV_partial__CPAR2_205850=1;CNV_partial__CPAR2_302740=1;CNV_partial__CPAR2_302750=1;CNV_partial__CPAR2_407900=1;CNV_partial__CPAR2_600460=1;cpar_Chr_1:1138022:SNP:T:C=2;cpar_Chr_1:1155491:SNP:T:G=2;cpar_Chr_1:1212175:SNP:G:A=1;cpar_Chr_1:1236879:SNP:T:C=2;cpar_Chr_1:131368:SNP:T:C=1;cpar_Chr_1:1412175:SNP:C:T=2;cpar_Chr_1:1414053:SNP:G:C=2;cpar_Chr_1:1487900:SNP:A:G=2;cpar_Chr_1:156323:SNP:A:T=2;cpar_Chr_1:1578805:SNP:C:T=2;cpar_Chr_1:1603386:SNP:C:A=1;cpar_Chr_1:1686927:SNP:G:A=2;cpar_Chr_1:1734830:SNP:T:C=2;cpar_Chr_1:173513:SNP:A:G=1;cpar_Chr_1:173985:INDEL:TTC:T=1;cpar_Chr_1:1742766:SNP:A:G=2;cpar_Chr_1:188477:SNP:G:A=1;cpar_Chr_1:2042735:INDEL:T:TTTGTGTCTGGAACTAAAGGTGTTC=2;cpar_Chr_1:2134056:SNP:T:C=2;cpar_Chr_1:2182586:SNP:C:T=2;cpar_Chr_1:2182587:SNP:C:T=2;cpar_Chr_1:2187204:INDEL:AC:A=2;cpar_Chr_1:2221963:SNP:G:A=2;cpar_Chr_1:229671:SNP:C:T=1;cpar_Chr_1:236042:SNP:G:T=1;cpar_Chr_1:247662:SNP:G:T=1;cpar_Chr_1:324661:SNP:G:A=1;cpar_Chr_1:345676:INDEL:CAA:C=1;cpar_Chr_1:391584:SNP:A:G=1;cpar_Chr_1:399430:SNP:G:A=1;cpar_Chr_1:399431:SNP:G:A=1;cpar_Chr_1:532958:SNP:C:T=1;cpar_Chr_1:57795:SNP:C:A=1;cpar_Chr_1:604488:SNP:A:G=1;cpar_Chr_1:73141:SNP:G:C=2;cpar_Chr_1:7900:SNP:C:T=1;cpar_Chr_1:89814:SNP:T:A=1;cpar_Chr_1:934851:SNP:T:A=1;cpar_Chr_1:997176:INDEL:T:TC=1;cpar_Chr_2:1066816:SNP:A:G=1;cpar_Chr_2:1081271:SNP:C:T=1;cpar_Chr_2:1134646:SNP:C:T=2;cpar_Chr_2:1255596:SNP:G:A=1;cpar_Chr_2:1298499:SNP:C:A=1;cpar_Chr_2:1311857:SNP:G:T=1;cpar_Chr_2:1312713:SNP:T:C=1;cpar_Chr_2:1315453:SNP:C:T=1;cpar_Chr_2:1412074:SNP:G:A=1;cpar_Chr_2:1413926:INDEL:GCTTTT:G=1;cpar_Chr_2:1421446:SNP:T:C=1;cpar_Chr_2:1521632:SNP:G:A=2;cpar_Chr_2:1540730:SNP:C:T=1;cpar_Chr_2:1542786:SNP:A:G=1;cpar_Chr_2:1576348:SNP:T:C=1;cpar_Chr_2:1584142:SNP:G:A=2;cpar_Chr_2:1641940:SNP:C:T=1;cpar_Chr_2:1650572:SNP:C:T=1;cpar_Chr_2:1685759:SNP:G:A=1;cpar_Chr_2:1747275:SNP:C:A=1;cpar_Chr_2:1873535:SNP:C:A=1;cpar_Chr_2:1907410:INDEL:ACTTC:A=2;cpar_Chr_2:1936261:SNP:T:C=2;cpar_Chr_2:1970484:SNP:T:A=2;cpar_Chr_2:2070260:SNP:T:C=2;cpar_Chr_2:2151142:SNP:C:T=2;cpar_Chr_2:2151143:SNP:C:T=2;cpar_Chr_2:2244631:SNP:C:T=1;cpar_Chr_2:2259929:SNP:C:T=1;cpar_Chr_2:2442781:INDEL:G:GA=2;cpar_Chr_2:2455561:SNP:C:T=2;cpar_Chr_2:2530787:SNP:G:T=1;cpar_Chr_2:260481:SNP:C:T=2;cpar_Chr_2:2638427:SNP:T:C=1;cpar_Chr_2:2673705:SNP:C:T=2;cpar_Chr_2:2789947:SNP:C:T=2;cpar_Chr_2:2951754:SNP:G:T=1;cpar_Chr_2:371337:SNP:G:A=2;cpar_Chr_2:562748:SNP:G:A=2;cpar_Chr_2:613092:SNP:C:G=2;cpar_Chr_2:758231:SNP:C:T=2;cpar_Chr_2:798213:SNP:G:A=2;cpar_Chr_2:799036:SNP:G:T=2;cpar_Chr_2:884331:INDEL:ATGT:A=2;cpar_Chr_2:969986:SNP:A:T=1;cpar_Chr_2:970731:SNP:G:A=2;cpar_Chr_2:973152:SNP:C:T=2;cpar_Chr_2:982726:INDEL:GA:G=1;cpar_Chr_3:1004577:SNP:G:A=1;cpar_Chr_3:1015863:SNP:C:A=1;cpar_Chr_3:1020393:SNP:T:C=2;cpar_Chr_3:1051471:SNP:A:G=2;cpar_Chr_3:1090536:SNP:C:T=1;cpar_Chr_3:1111175:SNP:A:G=1;cpar_Chr_3:1158004:SNP:C:T=1;cpar_Chr_3:1200703:SNP:T:C=1;cpar_Chr_3:1201135:SNP:C:T=1;cpar_Chr_3:1239745:SNP:G:T=1;cpar_Chr_3:1242311:SNP:G:A=2;cpar_Chr_3:1252068:SNP:C:T=1;cpar_Chr_3:1256704:SNP:G:C=1;cpar_Chr_3:1318907:SNP:G:A=1;cpar_Chr_3:1320489:SNP:C:T=1;cpar_Chr_3:1350358:SNP:C:T=1;cpar_Chr_3:1368044:SNP:G:A=2;cpar_Chr_3:1383916:SNP:C:T=1;cpar_Chr_3:1480294:SNP:C:T=1;cpar_Chr_3:259766:SNP:C:T=2;cpar_Chr_3:396043:SNP:C:T=2;cpar_Chr_3:406593:INDEL:AT:A=2;cpar_Chr_3:474759:SNP:A:G=2;cpar_Chr_3:475071:INDEL:AT:A=2;cpar_Chr_3:477530:SNP:G:A=2;cpar_Chr_3:498815:SNP:A:G=2;cpar_Chr_3:567206:SNP:A:C=2;cpar_Chr_3:626857:SNP:C:T=1;cpar_Chr_3:658444:SNP:A:G=1;cpar_Chr_3:672885:SNP:C:T=1;cpar_Chr_3:673053:INDEL:G:GA=2;cpar_Chr_3:709049:SNP:G:A=1;cpar_Chr_3:70964:SNP:G:A=2;cpar_Chr_3:831250:SNP:T:C=1;cpar_Chr_3:846710:INDEL:CA:C=1;cpar_Chr_3:887092:INDEL:GTT:G=2;cpar_Chr_3:891726:SNP:G:C=1;cpar_Chr_3:895026:SNP:C:T=1;cpar_Chr_3:911851:SNP:A:G=1;cpar_Chr_3:914818:SNP:C:T=1;cpar_Chr_3:963965:SNP:A:T=1;cpar_Chr_3:964228:SNP:C:T=1;cpar_Chr_3:965518:SNP:G:A=1;cpar_Chr_3:99216:SNP:C:A=2;cpar_Chr_4:1002673:SNP:C:T=1;cpar_Chr_4:1014548:SNP:C:T=1;cpar_Chr_4:104597:SNP:C:T=1;cpar_Chr_4:1082408:SNP:T:A=2;cpar_Chr_4:1139999:SNP:G:T=1;cpar_Chr_4:1182685:SNP:G:A=1;cpar_Chr_4:1206223:SNP:G:A=1;cpar_Chr_4:1236285:SNP:T:C=1;cpar_Chr_4:1270144:SNP:A:G=1;cpar_Chr_4:1272518:SNP:T:C=2;cpar_Chr_4:1284060:SNP:T:A=1;cpar_Chr_4:150875:SNP:G:C=1;cpar_Chr_4:165701:SNP:A:G=1;cpar_Chr_4:166862:SNP:C:A=1;cpar_Chr_4:167072:SNP:T:C=1;cpar_Chr_4:180156:SNP:C:G=1;cpar_Chr_4:193717:SNP:G:C=1;cpar_Chr_4:282517:SNP:G:A=1;cpar_Chr_4:288169:SNP:T:C=1;cpar_Chr_4:30378:SNP:T:C=1;cpar_Chr_4:340004:SNP:T:C=1;cpar_Chr_4:417852:SNP:T:C=1;cpar_Chr_4:427349:SNP:G:A=2;cpar_Chr_4:460742:SNP:A:G=1;cpar_Chr_4:515209:SNP:C:A=1;cpar_Chr_4:531062:SNP:G:A=1;cpar_Chr_4:531623:SNP:C:T=1;cpar_Chr_4:54990:SNP:C:T=1;cpar_Chr_4:655728:SNP:A:G=1;cpar_Chr_4:665644:SNP:G:A=1;cpar_Chr_4:665645:SNP:G:A=1;cpar_Chr_4:675221:SNP:C:A=1;cpar_Chr_4:689766:SNP:G:A=2;cpar_Chr_4:712815:SNP:C:A=1;cpar_Chr_4:713375:SNP:G:A=1;cpar_Chr_4:7358:SNP:T:G=2;cpar_Chr_4:75985:INDEL:AAAG:A=1;cpar_Chr_4:802788:SNP:A:G=1;cpar_Chr_4:851224:SNP:C:A=2;cpar_Chr_4:856863:SNP:G:A=1;cpar_Chr_4:96695:SNP:T:C=1;cpar_Chr_4:982837:SNP:C:T=2;cpar_Chr_4:99864:SNP:C:G=1;cpar_Chr_5:199047:INDEL:TG:T=1;cpar_Chr_5:215726:SNP:A:T=2;cpar_Chr_5:273546:SNP:A:T=2;cpar_Chr_5:297137:SNP:A:G=2;cpar_Chr_5:320237:SNP:C:T=2;cpar_Chr_5:334785:SNP:T:C=1;cpar_Chr_5:341820:SNP:A:G=2;cpar_Chr_5:363404:SNP:C:T=2;cpar_Chr_5:36961:SNP:T:A=1;cpar_Chr_5:401182:SNP:G:A=2;cpar_Chr_5:510884:SNP:A:G=2;cpar_Chr_5:512789:SNP:G:A=2;cpar_Chr_5:545798:SNP:G:A=2;cpar_Chr_5:559210:SNP:A:G=2;cpar_Chr_5:648678:SNP:T:C=2;cpar_Chr_5:727486:SNP:G:A=1;cpar_Chr_5:743097:SNP:T:C=1;cpar_Chr_5:753407:SNP:G:A=2;cpar_Chr_5:770260:SNP:C:T=2;cpar_Chr_5:770261:SNP:T:C=2;cpar_Chr_5:773260:SNP:C:A=1;cpar_Chr_5:779965:SNP:C:T=1;cpar_Chr_5:808543:INDEL:C:CT=2;cpar_Chr_5:810773:SNP:T:C=1;cpar_Chr_5:854256:SNP:C:T=1;cpar_Chr_5:884230:SNP:G:A=1;cpar_Chr_5:892552:SNP:C:G=1;cpar_Chr_5:958445:SNP:G:T=1;cpar_Chr_6:17222:SNP:G:A=1;cpar_Chr_6:173260:SNP:C:T=1;cpar_Chr_6:193165:SNP:G:A=1;cpar_Chr_6:216233:SNP:A:G=1;cpar_Chr_6:24321:SNP:T:C=1;cpar_Chr_6:285311:INDEL:G:GGTCCAGATTCATCA=1;cpar_Chr_6:325407:SNP:G:T=1;cpar_Chr_6:375037:SNP:A:G=1;cpar_Chr_6:473482:INDEL:G:GC=1;cpar_Chr_6:523190:SNP:C:T=1;cpar_Chr_6:559870:SNP:A:T=1;cpar_Chr_6:579184:SNP:C:A=1;cpar_Chr_6:58940:SNP:G:A=1;cpar_Chr_6:63947:SNP:G:A=1;cpar_Chr_6:686171:SNP:T:C=1;cpar_Chr_6:699163:SNP:G:A=1;cpar_Chr_6:720951:SNP:T:C=1;cpar_Chr_6:779268:SNP:G:A=1;cpar_Chr_6:781662:INDEL:TATA:T=1;cpar_Chr_6:791059:INDEL:AC:A=1;cpar_Chr_6:800177:SNP:T:A=1;cpar_Chr_6:82011:SNP:T:C=1;cpar_Chr_6:825006:SNP:G:A=1;cpar_Chr_6:825966:SNP:G:A=1;cpar_Chr_7:10746:SNP:C:T=2;cpar_Chr_7:129555:SNP:G:T=1;cpar_Chr_7:135665:SNP:A:G=1;cpar_Chr_7:186893:SNP:C:T=1;cpar_Chr_7:223748:SNP:C:T=2;cpar_Chr_7:266533:SNP:G:T=1;cpar_Chr_7:343997:SNP:C:T=1;cpar_Chr_7:409684:INDEL:C:CCACAAGGACATA=1;cpar_Chr_7:4311:SNP:C:T=1;cpar_Chr_7:457024:SNP:C:T=1;cpar_Chr_7:49295:SNP:C:A=1;cpar_Chr_7:501452:SNP:G:A=1;cpar_Chr_7:529304:SNP:C:T=1;cpar_Chr_7:546837:SNP:C:T=1;cpar_Chr_7:557403:SNP:A:T=1;cpar_Chr_7:612959:SNP:G:A=1;cpar_Chr_7:620808:SNP:C:T=1;cpar_Chr_7:658940:SNP:G:A=2;cpar_Chr_7:730114:SNP:C:G=2;cpar_Chr_7:731947:SNP:C:A=2;cpar_Chr_7:763003:SNP:C:A=1;cpar_Chr_7:800785:SNP:C:T=1;cpar_Chr_7:80731:INDEL:CTT:C=1;cpar_Chr_7:907416:SNP:C:G=1;cpar_Chr_7:946475:SNP:C:T=1;cpar_Chr_8:1017724:SNP:C:T=1;cpar_Chr_8:1029314:SNP:A:T=1;cpar_Chr_8:1043383:SNP:C:T=1;cpar_Chr_8:1093851:SNP:A:G=1;cpar_Chr_8:1136680:SNP:G:A=1;cpar_Chr_8:1139431:SNP:G:A=1;cpar_Chr_8:1150211:SNP:A:G=1;cpar_Chr_8:1157395:INDEL:TTA:T=1;cpar_Chr_8:1163961:INDEL:TA:T=1;cpar_Chr_8:1175619:SNP:G:C=1;cpar_Chr_8:1195334:SNP:A:G=1;cpar_Chr_8:1196378:SNP:C:A=1;cpar_Chr_8:1197801:SNP:C:T=1;cpar_Chr_8:1218793:INDEL:AGT:A=1;cpar_Chr_8:1222517:SNP:C:T=2;cpar_Chr_8:1261967:SNP:C:T=1;cpar_Chr_8:126480:SNP:A:G=2;cpar_Chr_8:1319709:INDEL:CAA:C=2;cpar_Chr_8:1352689:SNP:G:A=1;cpar_Chr_8:1427015:SNP:G:A=1;cpar_Chr_8:1494901:SNP:A:G=1;cpar_Chr_8:1498175:SNP:G:A=1;cpar_Chr_8:1518438:INDEL:GT:G=2;cpar_Chr_8:15319:SNP:A:C=1;cpar_Chr_8:1567582:SNP:T:C=1;cpar_Chr_8:1579413:SNP:T:A=1;cpar_Chr_8:1595584:SNP:C:A=1;cpar_Chr_8:1688367:SNP:T:A=1;cpar_Chr_8:1701343:SNP:T:C=1;cpar_Chr_8:1716417:SNP:T:C=1;cpar_Chr_8:1734311:SNP:C:T=1;cpar_Chr_8:1826483:SNP:C:T=1;cpar_Chr_8:1841044:SNP:C:T=1;cpar_Chr_8:1859028:SNP:T:C=1;cpar_Chr_8:1889985:SNP:G:A=1;cpar_Chr_8:1960675:SNP:G:A=1;cpar_Chr_8:1978937:SNP:T:A=1;cpar_Chr_8:1983291:SNP:A:G=1;cpar_Chr_8:1987165:INDEL:C:CAAAATTTCAAAAAATTTGCCTATTGCCTTGAGG=1;cpar_Chr_8:2005794:INDEL:TAAAG:T=1;cpar_Chr_8:2017851:SNP:C:A=2;cpar_Chr_8:2078990:SNP:C:T=1;cpar_Chr_8:2080848:SNP:C:T=1;cpar_Chr_8:2082848:SNP:T:C=1;cpar_Chr_8:226513:SNP:A:G=2;cpar_Chr_8:280264:SNP:A:G=2;cpar_Chr_8:284061:SNP:C:T=2;cpar_Chr_8:442160:SNP:G:T=1;cpar_Chr_8:458672:SNP:C:A=2;cpar_Chr_8:509054:SNP:C:T=2;cpar_Chr_8:608066:INDEL:AC:A=1;cpar_Chr_8:622620:SNP:G:A=2;cpar_Chr_8:66030:SNP:C:T=2;cpar_Chr_8:673877:SNP:G:C=1;cpar_Chr_8:709191:SNP:C:A=1;cpar_Chr_8:757716:SNP:G:A=1;cpar_Chr_8:76222:SNP:T:A=1;cpar_Chr_8:796967:SNP:T:A=1;cpar_Chr_8:897087:SNP:C:A=1;cpar_Chr_8:918015:SNP:G:A=1;cpar_mito:15507:SNP:G:T=2</th>\n",
       "      <td>0.0</td>\n",
       "      <td>0.000000</td>\n",
       "      <td>0.0</td>\n",
       "      <td>0.0</td>\n",
       "      <td>0.0</td>\n",
       "      <td>0.0</td>\n",
       "      <td>0.0</td>\n",
       "      <td>0.026917</td>\n",
       "    </tr>\n",
       "    <tr>\n",
       "      <th>CNV_event__CPAR2_108170=1</th>\n",
       "      <td>0.0</td>\n",
       "      <td>0.000000</td>\n",
       "      <td>0.0</td>\n",
       "      <td>0.0</td>\n",
       "      <td>0.0</td>\n",
       "      <td>0.0</td>\n",
       "      <td>0.0</td>\n",
       "      <td>0.010268</td>\n",
       "    </tr>\n",
       "    <tr>\n",
       "      <th>CNV_event__CPAR2_200290=2;CNV_event__CPAR2_200610=2;CNV_event__CPAR2_200690=2;CNV_event__CPAR2_200700=2;CNV_event__CPAR2_200750=2;CNV_event__CPAR2_201490=2;CNV_event__CPAR2_201650=2;CNV_event__CPAR2_201680=2;CNV_event__CPAR2_201740=2;CNV_event__CPAR2_202380=2;CNV_event__CPAR2_202640=2;CNV_event__CPAR2_202650=2;CNV_event__CPAR2_202730=2;CNV_event__CPAR2_203220=2;CNV_event__CPAR2_203320=2;CNV_event__CPAR2_203760=2;CNV_event__CPAR2_203900=1;CNV_event__CPAR2_205830=2;CNV_event__CPAR2_206100=2;CNV_event__CPAR2_206570=2;CNV_event__CPAR2_206800=2;CNV_event__CPAR2_206910=2;CNV_event__CPAR2_206960=2;CNV_event__CPAR2_207130=2;CNV_event__CPAR2_207140=2;CNV_event__CPAR2_207160=2;CNV_event__CPAR2_207200=2;CNV_event__CPAR2_207480=2;CNV_event__CPAR2_207510=2;CNV_event__CPAR2_207630=2;CNV_event__CPAR2_207910=2;CNV_event__CPAR2_207930=2;CNV_event__CPAR2_208080=2;CNV_event__CPAR2_208200=2;CNV_event__CPAR2_208220=2;CNV_event__CPAR2_208260=2;CNV_event__CPAR2_208280=2;CNV_event__CPAR2_208410=2;CNV_event__CPAR2_208440=2;CNV_event__CPAR2_208450=2;CNV_event__CPAR2_208460=2;CNV_event__CPAR2_208480=2;CNV_event__CPAR2_208500=2;CNV_event__CPAR2_208540=2;CNV_event__CPAR2_208580=2;CNV_event__CPAR2_208680=2;CNV_event__CPAR2_208710=2;CNV_event__CPAR2_209430=2;CNV_event__CPAR2_210130=2;CNV_event__CPAR2_210190=2;CNV_event__CPAR2_210320=2;CNV_event__CPAR2_210960=2;CNV_event__CPAR2_211200=2;CNV_event__CPAR2_212000=2;CNV_event__CPAR2_212020=2;CNV_event__CPAR2_212030=2;CNV_event__CPAR2_212080=2;CNV_event__CPAR2_212120=2;CNV_event__CPAR2_212220=2;CNV_event__CPAR2_212250=2;CNV_event__CPAR2_212430=2;CNV_event__CPAR2_212450=2;CNV_event__CPAR2_212510=2;CNV_event__CPAR2_212540=2;CNV_event__CPAR2_212630=2;CNV_event__CPAR2_212650=2;CNV_event__CPAR2_212720=2;CNV_event__CPAR2_212830=2;CNV_event__CPAR2_213220=2;CNV_event__CPAR2_300140=2;CNV_event__CPAR2_300290=2;CNV_event__CPAR2_300520=2;CNV_event__CPAR2_300860=2;CNV_event__CPAR2_300930=2;CNV_event__CPAR2_300990=2;CNV_event__CPAR2_301220=2;CNV_event__CPAR2_301560=2;CNV_event__CPAR2_404930=2;CNV_event__CPAR2_405050=2;CNV_event__CPAR2_405080=2;CNV_event__CPAR2_405200=2;CNV_event__CPAR2_405250=2;CNV_event__CPAR2_405310=2;CNV_event__CPAR2_405320=2;CNV_event__CPAR2_406170=2;CNV_event__CPAR2_406570=2;CNV_event__CPAR2_406750=2;CNV_event__CPAR2_406880=2;CNV_event__CPAR2_406940=2;CNV_event__CPAR2_407090=2;CNV_event__CPAR2_407240=2;CNV_event__CPAR2_407490=2;CNV_event__CPAR2_407550=2;CNV_event__CPAR2_407620=2;cpar_Chr_1:1702511:SNP:T:C=1;cpar_Chr_2:2016972:SNP:C:T=1;cpar_Chr_2:2376392:SNP:C:A=2</th>\n",
       "      <td>0.0</td>\n",
       "      <td>-0.000752</td>\n",
       "      <td>0.0</td>\n",
       "      <td>0.0</td>\n",
       "      <td>0.0</td>\n",
       "      <td>0.0</td>\n",
       "      <td>0.0</td>\n",
       "      <td>0.000000</td>\n",
       "    </tr>\n",
       "  </tbody>\n",
       "</table>\n",
       "</div>"
      ],
      "text/plain": [
       "                                                    All, No correction  \\\n",
       "Pattern                                                                  \n",
       "CNV_event__CPAR2_100270=2;CNV_event__CPAR2_2072...                 0.0   \n",
       "CNV_event__CPAR2_104290=2;CNV_event__CPAR2_1069...                 0.0   \n",
       "CNV_event__CPAR2_104990=1;CNV_event__CPAR2_2058...                 0.0   \n",
       "CNV_event__CPAR2_108170=1                                          0.0   \n",
       "CNV_event__CPAR2_200290=2;CNV_event__CPAR2_2006...                 0.0   \n",
       "\n",
       "                                                    Usa, No correction  \\\n",
       "Pattern                                                                  \n",
       "CNV_event__CPAR2_100270=2;CNV_event__CPAR2_2072...            0.000000   \n",
       "CNV_event__CPAR2_104290=2;CNV_event__CPAR2_1069...            0.000000   \n",
       "CNV_event__CPAR2_104990=1;CNV_event__CPAR2_2058...            0.000000   \n",
       "CNV_event__CPAR2_108170=1                                     0.000000   \n",
       "CNV_event__CPAR2_200290=2;CNV_event__CPAR2_2006...           -0.000752   \n",
       "\n",
       "                                                    Europe, No correction  \\\n",
       "Pattern                                                                     \n",
       "CNV_event__CPAR2_100270=2;CNV_event__CPAR2_2072...                    0.0   \n",
       "CNV_event__CPAR2_104290=2;CNV_event__CPAR2_1069...                    0.0   \n",
       "CNV_event__CPAR2_104990=1;CNV_event__CPAR2_2058...                    0.0   \n",
       "CNV_event__CPAR2_108170=1                                             0.0   \n",
       "CNV_event__CPAR2_200290=2;CNV_event__CPAR2_2006...                    0.0   \n",
       "\n",
       "                                                    China, No correction  \\\n",
       "Pattern                                                                    \n",
       "CNV_event__CPAR2_100270=2;CNV_event__CPAR2_2072...                   0.0   \n",
       "CNV_event__CPAR2_104290=2;CNV_event__CPAR2_1069...                   0.0   \n",
       "CNV_event__CPAR2_104990=1;CNV_event__CPAR2_2058...                   0.0   \n",
       "CNV_event__CPAR2_108170=1                                            0.0   \n",
       "CNV_event__CPAR2_200290=2;CNV_event__CPAR2_2006...                   0.0   \n",
       "\n",
       "                                                    All, Corrected  \\\n",
       "Pattern                                                              \n",
       "CNV_event__CPAR2_100270=2;CNV_event__CPAR2_2072...             0.0   \n",
       "CNV_event__CPAR2_104290=2;CNV_event__CPAR2_1069...             0.0   \n",
       "CNV_event__CPAR2_104990=1;CNV_event__CPAR2_2058...             0.0   \n",
       "CNV_event__CPAR2_108170=1                                      0.0   \n",
       "CNV_event__CPAR2_200290=2;CNV_event__CPAR2_2006...             0.0   \n",
       "\n",
       "                                                    Usa, Corrected  \\\n",
       "Pattern                                                              \n",
       "CNV_event__CPAR2_100270=2;CNV_event__CPAR2_2072...             0.0   \n",
       "CNV_event__CPAR2_104290=2;CNV_event__CPAR2_1069...             0.0   \n",
       "CNV_event__CPAR2_104990=1;CNV_event__CPAR2_2058...             0.0   \n",
       "CNV_event__CPAR2_108170=1                                      0.0   \n",
       "CNV_event__CPAR2_200290=2;CNV_event__CPAR2_2006...             0.0   \n",
       "\n",
       "                                                    Europe, Corrected  \\\n",
       "Pattern                                                                 \n",
       "CNV_event__CPAR2_100270=2;CNV_event__CPAR2_2072...                0.0   \n",
       "CNV_event__CPAR2_104290=2;CNV_event__CPAR2_1069...                0.0   \n",
       "CNV_event__CPAR2_104990=1;CNV_event__CPAR2_2058...                0.0   \n",
       "CNV_event__CPAR2_108170=1                                         0.0   \n",
       "CNV_event__CPAR2_200290=2;CNV_event__CPAR2_2006...                0.0   \n",
       "\n",
       "                                                    China, Corrected  \n",
       "Pattern                                                               \n",
       "CNV_event__CPAR2_100270=2;CNV_event__CPAR2_2072...          0.057354  \n",
       "CNV_event__CPAR2_104290=2;CNV_event__CPAR2_1069...          0.025246  \n",
       "CNV_event__CPAR2_104990=1;CNV_event__CPAR2_2058...          0.026917  \n",
       "CNV_event__CPAR2_108170=1                                   0.010268  \n",
       "CNV_event__CPAR2_200290=2;CNV_event__CPAR2_2006...          0.000000  "
      ]
     },
     "execution_count": 66,
     "metadata": {},
     "output_type": "execute_result"
    }
   ],
   "source": [
    "lasso_coef_cutoff = 1e-4\n",
    "reg_results = [reg_all_notcorr, reg_all_corrected, reg_usa_notcorr, reg_usa_corrected, reg_euro_notcorr, reg_euro_corrected, reg_china_notcorr, reg_china_corrected]\n",
    "locations = ['All', 'All', 'Usa', 'Usa', 'Europe', 'Europe','China', 'China']\n",
    "iscorrected = ['No correction', 'Corrected', 'No correction', 'Corrected', 'No correction', 'Corrected', 'No correction', 'Corrected']\n",
    "df_X_array = [df_X_all, df_X_all, df_X_usa, df_X_usa, df_X_euro, df_X_euro, df_X_china, df_X_china]\n",
    "\n",
    "pattern2feature_all = joblib.load('../merge_features/feature2pattern.all.joblib')\n",
    "pattern2feature_usa = joblib.load('../merge_features/feature2pattern.usa.joblib')\n",
    "pattern2feature_euro = joblib.load('../merge_features/feature2pattern.euro.joblib')\n",
    "pattern2feature_china = joblib.load('../merge_features/feature2pattern.china.joblib')\n",
    "pattern2feature_array = [pattern2feature_all, pattern2feature_all, pattern2feature_usa, pattern2feature_usa, pattern2feature_euro, pattern2feature_euro, pattern2feature_china, pattern2feature_china]\n",
    "\n",
    "df_reg_joined = None\n",
    "for res, loc, corr, curr_df_X, p2f in zip(reg_results, locations, iscorrected, df_X_array, pattern2feature_array):\n",
    "    coln = '%s, %s'%(loc, corr)\n",
    "    df_tmp = pd.DataFrame(res.coef_, index=curr_df_X.columns, columns=[coln])\n",
    "    df_tmp = df_tmp[(df_tmp[coln] >= lasso_coef_cutoff) | (df_tmp[coln] <= -lasso_coef_cutoff)]\n",
    "    \n",
    "    feature_names = []\n",
    "    for f in df_tmp.index:\n",
    "        feature_names.append((';').join(np.sort([k for k,v in p2f.items() if v==f])))\n",
    "    df_tmp = df_tmp.rename({x:y for x,y in zip(df_tmp.index, feature_names)})\n",
    "\n",
    "    if df_reg_joined is None:\n",
    "        df_reg_joined = deepcopy(df_tmp)\n",
    "    else:\n",
    "        df_reg_joined = pd.merge(df_reg_joined, df_tmp, left_index=True, right_index=True, how='outer').fillna(0)\n",
    "df_reg_joined.index.name = 'Pattern'\n",
    "df_reg_joined = df_reg_joined[['All, No correction', 'Usa, No correction', 'Europe, No correction', 'China, No correction',\n",
    "                               'All, Corrected', 'Usa, Corrected', 'Europe, Corrected', 'China, Corrected']]\n",
    "\n",
    "df_reg_joined.round(3).to_csv(\"lasso_coefs_summary.csv\")\n",
    "df_reg_joined.head()"
   ]
  },
  {
   "cell_type": "markdown",
   "metadata": {},
   "source": [
    "# Generate table for yy"
   ]
  },
  {
   "cell_type": "code",
   "execution_count": 70,
   "metadata": {},
   "outputs": [],
   "source": [
    "df_cnv_quant = pd.read_csv(\"../compute_cnv/cnv_features_stacked_04192023_peakdist0.9_mincontri0.2.csv\")\n",
    "df_cnv_quant = df_cnv_quant[df_cnv_quant.Orf.isin([x.split('__')[1] for x in df_reg_all_corrected.FeatureName])]\n",
    "df_cnv_quant = df_cnv_quant[df_cnv_quant.Isolate != 'GL37']\n",
    "df_cnv_quant = pd.pivot_table(df_cnv_quant, index='Isolate', columns='Orf', values='CNV_quant').astype(int)\n",
    "df_cnv_quant.to_csv(\"for_yy_cnv_lasso_selected_phylo_corrected_features_all_isolates.csv\")"
   ]
  },
  {
   "cell_type": "code",
   "execution_count": null,
   "metadata": {},
   "outputs": [],
   "source": []
  },
  {
   "cell_type": "code",
   "execution_count": null,
   "metadata": {},
   "outputs": [],
   "source": []
  }
 ],
 "metadata": {
  "kernelspec": {
   "display_name": "Python 3 (ipykernel)",
   "language": "python",
   "name": "python3"
  },
  "language_info": {
   "codemirror_mode": {
    "name": "ipython",
    "version": 3
   },
   "file_extension": ".py",
   "mimetype": "text/x-python",
   "name": "python",
   "nbconvert_exporter": "python",
   "pygments_lexer": "ipython3",
   "version": "3.8.16"
  }
 },
 "nbformat": 4,
 "nbformat_minor": 4
}
